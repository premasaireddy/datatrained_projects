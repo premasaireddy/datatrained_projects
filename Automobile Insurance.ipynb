{
 "cells": [
  {
   "cell_type": "markdown",
   "metadata": {},
   "source": [
    "project"
   ]
  },
  {
   "cell_type": "markdown",
   "metadata": {},
   "source": [
    "# Automobile Insurance Fraud Prediction "
   ]
  },
  {
   "cell_type": "code",
   "execution_count": 3,
   "metadata": {},
   "outputs": [],
   "source": [
    "import numpy as np \n",
    "import pandas as pd "
   ]
  },
  {
   "cell_type": "markdown",
   "metadata": {},
   "source": [
    "## Loading dataset"
   ]
  },
  {
   "cell_type": "code",
   "execution_count": 4,
   "metadata": {},
   "outputs": [],
   "source": [
    "df=pd.read_csv('Automobile_insurance_fraud.csv')"
   ]
  },
  {
   "cell_type": "code",
   "execution_count": 5,
   "metadata": {},
   "outputs": [
    {
     "data": {
      "text/html": [
       "<div>\n",
       "<style scoped>\n",
       "    .dataframe tbody tr th:only-of-type {\n",
       "        vertical-align: middle;\n",
       "    }\n",
       "\n",
       "    .dataframe tbody tr th {\n",
       "        vertical-align: top;\n",
       "    }\n",
       "\n",
       "    .dataframe thead th {\n",
       "        text-align: right;\n",
       "    }\n",
       "</style>\n",
       "<table border=\"1\" class=\"dataframe\">\n",
       "  <thead>\n",
       "    <tr style=\"text-align: right;\">\n",
       "      <th></th>\n",
       "      <th>months_as_customer</th>\n",
       "      <th>age</th>\n",
       "      <th>policy_number</th>\n",
       "      <th>policy_bind_date</th>\n",
       "      <th>policy_state</th>\n",
       "      <th>policy_csl</th>\n",
       "      <th>policy_deductable</th>\n",
       "      <th>policy_annual_premium</th>\n",
       "      <th>umbrella_limit</th>\n",
       "      <th>insured_zip</th>\n",
       "      <th>...</th>\n",
       "      <th>police_report_available</th>\n",
       "      <th>total_claim_amount</th>\n",
       "      <th>injury_claim</th>\n",
       "      <th>property_claim</th>\n",
       "      <th>vehicle_claim</th>\n",
       "      <th>auto_make</th>\n",
       "      <th>auto_model</th>\n",
       "      <th>auto_year</th>\n",
       "      <th>fraud_reported</th>\n",
       "      <th>_c39</th>\n",
       "    </tr>\n",
       "  </thead>\n",
       "  <tbody>\n",
       "    <tr>\n",
       "      <th>0</th>\n",
       "      <td>328</td>\n",
       "      <td>48</td>\n",
       "      <td>521585</td>\n",
       "      <td>17-10-2014</td>\n",
       "      <td>OH</td>\n",
       "      <td>250/500</td>\n",
       "      <td>1000</td>\n",
       "      <td>1406.91</td>\n",
       "      <td>0</td>\n",
       "      <td>466132</td>\n",
       "      <td>...</td>\n",
       "      <td>YES</td>\n",
       "      <td>71610</td>\n",
       "      <td>6510</td>\n",
       "      <td>13020</td>\n",
       "      <td>52080</td>\n",
       "      <td>Saab</td>\n",
       "      <td>92x</td>\n",
       "      <td>2004</td>\n",
       "      <td>Y</td>\n",
       "      <td>NaN</td>\n",
       "    </tr>\n",
       "    <tr>\n",
       "      <th>1</th>\n",
       "      <td>228</td>\n",
       "      <td>42</td>\n",
       "      <td>342868</td>\n",
       "      <td>27-06-2006</td>\n",
       "      <td>IN</td>\n",
       "      <td>250/500</td>\n",
       "      <td>2000</td>\n",
       "      <td>1197.22</td>\n",
       "      <td>5000000</td>\n",
       "      <td>468176</td>\n",
       "      <td>...</td>\n",
       "      <td>?</td>\n",
       "      <td>5070</td>\n",
       "      <td>780</td>\n",
       "      <td>780</td>\n",
       "      <td>3510</td>\n",
       "      <td>Mercedes</td>\n",
       "      <td>E400</td>\n",
       "      <td>2007</td>\n",
       "      <td>Y</td>\n",
       "      <td>NaN</td>\n",
       "    </tr>\n",
       "    <tr>\n",
       "      <th>2</th>\n",
       "      <td>134</td>\n",
       "      <td>29</td>\n",
       "      <td>687698</td>\n",
       "      <td>06-09-2000</td>\n",
       "      <td>OH</td>\n",
       "      <td>100/300</td>\n",
       "      <td>2000</td>\n",
       "      <td>1413.14</td>\n",
       "      <td>5000000</td>\n",
       "      <td>430632</td>\n",
       "      <td>...</td>\n",
       "      <td>NO</td>\n",
       "      <td>34650</td>\n",
       "      <td>7700</td>\n",
       "      <td>3850</td>\n",
       "      <td>23100</td>\n",
       "      <td>Dodge</td>\n",
       "      <td>RAM</td>\n",
       "      <td>2007</td>\n",
       "      <td>N</td>\n",
       "      <td>NaN</td>\n",
       "    </tr>\n",
       "    <tr>\n",
       "      <th>3</th>\n",
       "      <td>256</td>\n",
       "      <td>41</td>\n",
       "      <td>227811</td>\n",
       "      <td>25-05-1990</td>\n",
       "      <td>IL</td>\n",
       "      <td>250/500</td>\n",
       "      <td>2000</td>\n",
       "      <td>1415.74</td>\n",
       "      <td>6000000</td>\n",
       "      <td>608117</td>\n",
       "      <td>...</td>\n",
       "      <td>NO</td>\n",
       "      <td>63400</td>\n",
       "      <td>6340</td>\n",
       "      <td>6340</td>\n",
       "      <td>50720</td>\n",
       "      <td>Chevrolet</td>\n",
       "      <td>Tahoe</td>\n",
       "      <td>2014</td>\n",
       "      <td>Y</td>\n",
       "      <td>NaN</td>\n",
       "    </tr>\n",
       "    <tr>\n",
       "      <th>4</th>\n",
       "      <td>228</td>\n",
       "      <td>44</td>\n",
       "      <td>367455</td>\n",
       "      <td>06-06-2014</td>\n",
       "      <td>IL</td>\n",
       "      <td>500/1000</td>\n",
       "      <td>1000</td>\n",
       "      <td>1583.91</td>\n",
       "      <td>6000000</td>\n",
       "      <td>610706</td>\n",
       "      <td>...</td>\n",
       "      <td>NO</td>\n",
       "      <td>6500</td>\n",
       "      <td>1300</td>\n",
       "      <td>650</td>\n",
       "      <td>4550</td>\n",
       "      <td>Accura</td>\n",
       "      <td>RSX</td>\n",
       "      <td>2009</td>\n",
       "      <td>N</td>\n",
       "      <td>NaN</td>\n",
       "    </tr>\n",
       "  </tbody>\n",
       "</table>\n",
       "<p>5 rows × 40 columns</p>\n",
       "</div>"
      ],
      "text/plain": [
       "   months_as_customer  age  policy_number policy_bind_date policy_state  \\\n",
       "0                 328   48         521585       17-10-2014           OH   \n",
       "1                 228   42         342868       27-06-2006           IN   \n",
       "2                 134   29         687698       06-09-2000           OH   \n",
       "3                 256   41         227811       25-05-1990           IL   \n",
       "4                 228   44         367455       06-06-2014           IL   \n",
       "\n",
       "  policy_csl  policy_deductable  policy_annual_premium  umbrella_limit  \\\n",
       "0    250/500               1000                1406.91               0   \n",
       "1    250/500               2000                1197.22         5000000   \n",
       "2    100/300               2000                1413.14         5000000   \n",
       "3    250/500               2000                1415.74         6000000   \n",
       "4   500/1000               1000                1583.91         6000000   \n",
       "\n",
       "   insured_zip  ... police_report_available total_claim_amount injury_claim  \\\n",
       "0       466132  ...                     YES              71610         6510   \n",
       "1       468176  ...                       ?               5070          780   \n",
       "2       430632  ...                      NO              34650         7700   \n",
       "3       608117  ...                      NO              63400         6340   \n",
       "4       610706  ...                      NO               6500         1300   \n",
       "\n",
       "  property_claim vehicle_claim  auto_make  auto_model auto_year  \\\n",
       "0          13020         52080       Saab         92x      2004   \n",
       "1            780          3510   Mercedes        E400      2007   \n",
       "2           3850         23100      Dodge         RAM      2007   \n",
       "3           6340         50720  Chevrolet       Tahoe      2014   \n",
       "4            650          4550     Accura         RSX      2009   \n",
       "\n",
       "  fraud_reported _c39  \n",
       "0              Y  NaN  \n",
       "1              Y  NaN  \n",
       "2              N  NaN  \n",
       "3              Y  NaN  \n",
       "4              N  NaN  \n",
       "\n",
       "[5 rows x 40 columns]"
      ]
     },
     "execution_count": 5,
     "metadata": {},
     "output_type": "execute_result"
    }
   ],
   "source": [
    "df.head(5)"
   ]
  },
  {
   "cell_type": "markdown",
   "metadata": {},
   "source": [
    "## Exploratory Data Analysis"
   ]
  },
  {
   "cell_type": "code",
   "execution_count": 6,
   "metadata": {},
   "outputs": [
    {
     "name": "stdout",
     "output_type": "stream",
     "text": [
      "<class 'pandas.core.frame.DataFrame'>\n",
      "RangeIndex: 1000 entries, 0 to 999\n",
      "Data columns (total 40 columns):\n",
      " #   Column                       Non-Null Count  Dtype  \n",
      "---  ------                       --------------  -----  \n",
      " 0   months_as_customer           1000 non-null   int64  \n",
      " 1   age                          1000 non-null   int64  \n",
      " 2   policy_number                1000 non-null   int64  \n",
      " 3   policy_bind_date             1000 non-null   object \n",
      " 4   policy_state                 1000 non-null   object \n",
      " 5   policy_csl                   1000 non-null   object \n",
      " 6   policy_deductable            1000 non-null   int64  \n",
      " 7   policy_annual_premium        1000 non-null   float64\n",
      " 8   umbrella_limit               1000 non-null   int64  \n",
      " 9   insured_zip                  1000 non-null   int64  \n",
      " 10  insured_sex                  1000 non-null   object \n",
      " 11  insured_education_level      1000 non-null   object \n",
      " 12  insured_occupation           1000 non-null   object \n",
      " 13  insured_hobbies              1000 non-null   object \n",
      " 14  insured_relationship         1000 non-null   object \n",
      " 15  capital-gains                1000 non-null   int64  \n",
      " 16  capital-loss                 1000 non-null   int64  \n",
      " 17  incident_date                1000 non-null   object \n",
      " 18  incident_type                1000 non-null   object \n",
      " 19  collision_type               1000 non-null   object \n",
      " 20  incident_severity            1000 non-null   object \n",
      " 21  authorities_contacted        1000 non-null   object \n",
      " 22  incident_state               1000 non-null   object \n",
      " 23  incident_city                1000 non-null   object \n",
      " 24  incident_location            1000 non-null   object \n",
      " 25  incident_hour_of_the_day     1000 non-null   int64  \n",
      " 26  number_of_vehicles_involved  1000 non-null   int64  \n",
      " 27  property_damage              1000 non-null   object \n",
      " 28  bodily_injuries              1000 non-null   int64  \n",
      " 29  witnesses                    1000 non-null   int64  \n",
      " 30  police_report_available      1000 non-null   object \n",
      " 31  total_claim_amount           1000 non-null   int64  \n",
      " 32  injury_claim                 1000 non-null   int64  \n",
      " 33  property_claim               1000 non-null   int64  \n",
      " 34  vehicle_claim                1000 non-null   int64  \n",
      " 35  auto_make                    1000 non-null   object \n",
      " 36  auto_model                   1000 non-null   object \n",
      " 37  auto_year                    1000 non-null   int64  \n",
      " 38  fraud_reported               1000 non-null   object \n",
      " 39  _c39                         0 non-null      float64\n",
      "dtypes: float64(2), int64(17), object(21)\n",
      "memory usage: 312.6+ KB\n"
     ]
    }
   ],
   "source": [
    "df.info()"
   ]
  },
  {
   "cell_type": "code",
   "execution_count": 7,
   "metadata": {},
   "outputs": [
    {
     "data": {
      "text/plain": [
       "(1000, 40)"
      ]
     },
     "execution_count": 7,
     "metadata": {},
     "output_type": "execute_result"
    }
   ],
   "source": [
    "df.shape"
   ]
  },
  {
   "cell_type": "code",
   "execution_count": 8,
   "metadata": {},
   "outputs": [
    {
     "data": {
      "text/plain": [
       "months_as_customer                0\n",
       "age                               0\n",
       "policy_number                     0\n",
       "policy_bind_date                  0\n",
       "policy_state                      0\n",
       "policy_csl                        0\n",
       "policy_deductable                 0\n",
       "policy_annual_premium             0\n",
       "umbrella_limit                    0\n",
       "insured_zip                       0\n",
       "insured_sex                       0\n",
       "insured_education_level           0\n",
       "insured_occupation                0\n",
       "insured_hobbies                   0\n",
       "insured_relationship              0\n",
       "capital-gains                     0\n",
       "capital-loss                      0\n",
       "incident_date                     0\n",
       "incident_type                     0\n",
       "collision_type                    0\n",
       "incident_severity                 0\n",
       "authorities_contacted             0\n",
       "incident_state                    0\n",
       "incident_city                     0\n",
       "incident_location                 0\n",
       "incident_hour_of_the_day          0\n",
       "number_of_vehicles_involved       0\n",
       "property_damage                   0\n",
       "bodily_injuries                   0\n",
       "witnesses                         0\n",
       "police_report_available           0\n",
       "total_claim_amount                0\n",
       "injury_claim                      0\n",
       "property_claim                    0\n",
       "vehicle_claim                     0\n",
       "auto_make                         0\n",
       "auto_model                        0\n",
       "auto_year                         0\n",
       "fraud_reported                    0\n",
       "_c39                           1000\n",
       "dtype: int64"
      ]
     },
     "execution_count": 8,
     "metadata": {},
     "output_type": "execute_result"
    }
   ],
   "source": [
    "df.isnull().sum()"
   ]
  },
  {
   "cell_type": "code",
   "execution_count": 9,
   "metadata": {},
   "outputs": [
    {
     "data": {
      "text/plain": [
       "0"
      ]
     },
     "execution_count": 9,
     "metadata": {},
     "output_type": "execute_result"
    }
   ],
   "source": [
    "df.duplicated().sum()"
   ]
  },
  {
   "cell_type": "code",
   "execution_count": 10,
   "metadata": {},
   "outputs": [
    {
     "data": {
      "text/html": [
       "<div>\n",
       "<style scoped>\n",
       "    .dataframe tbody tr th:only-of-type {\n",
       "        vertical-align: middle;\n",
       "    }\n",
       "\n",
       "    .dataframe tbody tr th {\n",
       "        vertical-align: top;\n",
       "    }\n",
       "\n",
       "    .dataframe thead th {\n",
       "        text-align: right;\n",
       "    }\n",
       "</style>\n",
       "<table border=\"1\" class=\"dataframe\">\n",
       "  <thead>\n",
       "    <tr style=\"text-align: right;\">\n",
       "      <th></th>\n",
       "      <th>count</th>\n",
       "      <th>mean</th>\n",
       "      <th>std</th>\n",
       "      <th>min</th>\n",
       "      <th>25%</th>\n",
       "      <th>50%</th>\n",
       "      <th>75%</th>\n",
       "      <th>max</th>\n",
       "    </tr>\n",
       "  </thead>\n",
       "  <tbody>\n",
       "    <tr>\n",
       "      <th>months_as_customer</th>\n",
       "      <td>1000.0</td>\n",
       "      <td>2.039540e+02</td>\n",
       "      <td>1.151132e+02</td>\n",
       "      <td>0.00</td>\n",
       "      <td>115.7500</td>\n",
       "      <td>199.5</td>\n",
       "      <td>276.250</td>\n",
       "      <td>479.00</td>\n",
       "    </tr>\n",
       "    <tr>\n",
       "      <th>age</th>\n",
       "      <td>1000.0</td>\n",
       "      <td>3.894800e+01</td>\n",
       "      <td>9.140287e+00</td>\n",
       "      <td>19.00</td>\n",
       "      <td>32.0000</td>\n",
       "      <td>38.0</td>\n",
       "      <td>44.000</td>\n",
       "      <td>64.00</td>\n",
       "    </tr>\n",
       "    <tr>\n",
       "      <th>policy_number</th>\n",
       "      <td>1000.0</td>\n",
       "      <td>5.462386e+05</td>\n",
       "      <td>2.570630e+05</td>\n",
       "      <td>100804.00</td>\n",
       "      <td>335980.2500</td>\n",
       "      <td>533135.0</td>\n",
       "      <td>759099.750</td>\n",
       "      <td>999435.00</td>\n",
       "    </tr>\n",
       "    <tr>\n",
       "      <th>policy_deductable</th>\n",
       "      <td>1000.0</td>\n",
       "      <td>1.136000e+03</td>\n",
       "      <td>6.118647e+02</td>\n",
       "      <td>500.00</td>\n",
       "      <td>500.0000</td>\n",
       "      <td>1000.0</td>\n",
       "      <td>2000.000</td>\n",
       "      <td>2000.00</td>\n",
       "    </tr>\n",
       "    <tr>\n",
       "      <th>policy_annual_premium</th>\n",
       "      <td>1000.0</td>\n",
       "      <td>1.256406e+03</td>\n",
       "      <td>2.441674e+02</td>\n",
       "      <td>433.33</td>\n",
       "      <td>1089.6075</td>\n",
       "      <td>1257.2</td>\n",
       "      <td>1415.695</td>\n",
       "      <td>2047.59</td>\n",
       "    </tr>\n",
       "    <tr>\n",
       "      <th>umbrella_limit</th>\n",
       "      <td>1000.0</td>\n",
       "      <td>1.101000e+06</td>\n",
       "      <td>2.297407e+06</td>\n",
       "      <td>-1000000.00</td>\n",
       "      <td>0.0000</td>\n",
       "      <td>0.0</td>\n",
       "      <td>0.000</td>\n",
       "      <td>10000000.00</td>\n",
       "    </tr>\n",
       "    <tr>\n",
       "      <th>insured_zip</th>\n",
       "      <td>1000.0</td>\n",
       "      <td>5.012145e+05</td>\n",
       "      <td>7.170161e+04</td>\n",
       "      <td>430104.00</td>\n",
       "      <td>448404.5000</td>\n",
       "      <td>466445.5</td>\n",
       "      <td>603251.000</td>\n",
       "      <td>620962.00</td>\n",
       "    </tr>\n",
       "    <tr>\n",
       "      <th>capital-gains</th>\n",
       "      <td>1000.0</td>\n",
       "      <td>2.512610e+04</td>\n",
       "      <td>2.787219e+04</td>\n",
       "      <td>0.00</td>\n",
       "      <td>0.0000</td>\n",
       "      <td>0.0</td>\n",
       "      <td>51025.000</td>\n",
       "      <td>100500.00</td>\n",
       "    </tr>\n",
       "    <tr>\n",
       "      <th>capital-loss</th>\n",
       "      <td>1000.0</td>\n",
       "      <td>-2.679370e+04</td>\n",
       "      <td>2.810410e+04</td>\n",
       "      <td>-111100.00</td>\n",
       "      <td>-51500.0000</td>\n",
       "      <td>-23250.0</td>\n",
       "      <td>0.000</td>\n",
       "      <td>0.00</td>\n",
       "    </tr>\n",
       "    <tr>\n",
       "      <th>incident_hour_of_the_day</th>\n",
       "      <td>1000.0</td>\n",
       "      <td>1.164400e+01</td>\n",
       "      <td>6.951373e+00</td>\n",
       "      <td>0.00</td>\n",
       "      <td>6.0000</td>\n",
       "      <td>12.0</td>\n",
       "      <td>17.000</td>\n",
       "      <td>23.00</td>\n",
       "    </tr>\n",
       "    <tr>\n",
       "      <th>number_of_vehicles_involved</th>\n",
       "      <td>1000.0</td>\n",
       "      <td>1.839000e+00</td>\n",
       "      <td>1.018880e+00</td>\n",
       "      <td>1.00</td>\n",
       "      <td>1.0000</td>\n",
       "      <td>1.0</td>\n",
       "      <td>3.000</td>\n",
       "      <td>4.00</td>\n",
       "    </tr>\n",
       "    <tr>\n",
       "      <th>bodily_injuries</th>\n",
       "      <td>1000.0</td>\n",
       "      <td>9.920000e-01</td>\n",
       "      <td>8.201272e-01</td>\n",
       "      <td>0.00</td>\n",
       "      <td>0.0000</td>\n",
       "      <td>1.0</td>\n",
       "      <td>2.000</td>\n",
       "      <td>2.00</td>\n",
       "    </tr>\n",
       "    <tr>\n",
       "      <th>witnesses</th>\n",
       "      <td>1000.0</td>\n",
       "      <td>1.487000e+00</td>\n",
       "      <td>1.111335e+00</td>\n",
       "      <td>0.00</td>\n",
       "      <td>1.0000</td>\n",
       "      <td>1.0</td>\n",
       "      <td>2.000</td>\n",
       "      <td>3.00</td>\n",
       "    </tr>\n",
       "    <tr>\n",
       "      <th>total_claim_amount</th>\n",
       "      <td>1000.0</td>\n",
       "      <td>5.276194e+04</td>\n",
       "      <td>2.640153e+04</td>\n",
       "      <td>100.00</td>\n",
       "      <td>41812.5000</td>\n",
       "      <td>58055.0</td>\n",
       "      <td>70592.500</td>\n",
       "      <td>114920.00</td>\n",
       "    </tr>\n",
       "    <tr>\n",
       "      <th>injury_claim</th>\n",
       "      <td>1000.0</td>\n",
       "      <td>7.433420e+03</td>\n",
       "      <td>4.880952e+03</td>\n",
       "      <td>0.00</td>\n",
       "      <td>4295.0000</td>\n",
       "      <td>6775.0</td>\n",
       "      <td>11305.000</td>\n",
       "      <td>21450.00</td>\n",
       "    </tr>\n",
       "    <tr>\n",
       "      <th>property_claim</th>\n",
       "      <td>1000.0</td>\n",
       "      <td>7.399570e+03</td>\n",
       "      <td>4.824726e+03</td>\n",
       "      <td>0.00</td>\n",
       "      <td>4445.0000</td>\n",
       "      <td>6750.0</td>\n",
       "      <td>10885.000</td>\n",
       "      <td>23670.00</td>\n",
       "    </tr>\n",
       "    <tr>\n",
       "      <th>vehicle_claim</th>\n",
       "      <td>1000.0</td>\n",
       "      <td>3.792895e+04</td>\n",
       "      <td>1.888625e+04</td>\n",
       "      <td>70.00</td>\n",
       "      <td>30292.5000</td>\n",
       "      <td>42100.0</td>\n",
       "      <td>50822.500</td>\n",
       "      <td>79560.00</td>\n",
       "    </tr>\n",
       "    <tr>\n",
       "      <th>auto_year</th>\n",
       "      <td>1000.0</td>\n",
       "      <td>2.005103e+03</td>\n",
       "      <td>6.015861e+00</td>\n",
       "      <td>1995.00</td>\n",
       "      <td>2000.0000</td>\n",
       "      <td>2005.0</td>\n",
       "      <td>2010.000</td>\n",
       "      <td>2015.00</td>\n",
       "    </tr>\n",
       "    <tr>\n",
       "      <th>_c39</th>\n",
       "      <td>0.0</td>\n",
       "      <td>NaN</td>\n",
       "      <td>NaN</td>\n",
       "      <td>NaN</td>\n",
       "      <td>NaN</td>\n",
       "      <td>NaN</td>\n",
       "      <td>NaN</td>\n",
       "      <td>NaN</td>\n",
       "    </tr>\n",
       "  </tbody>\n",
       "</table>\n",
       "</div>"
      ],
      "text/plain": [
       "                              count          mean           std         min  \\\n",
       "months_as_customer           1000.0  2.039540e+02  1.151132e+02        0.00   \n",
       "age                          1000.0  3.894800e+01  9.140287e+00       19.00   \n",
       "policy_number                1000.0  5.462386e+05  2.570630e+05   100804.00   \n",
       "policy_deductable            1000.0  1.136000e+03  6.118647e+02      500.00   \n",
       "policy_annual_premium        1000.0  1.256406e+03  2.441674e+02      433.33   \n",
       "umbrella_limit               1000.0  1.101000e+06  2.297407e+06 -1000000.00   \n",
       "insured_zip                  1000.0  5.012145e+05  7.170161e+04   430104.00   \n",
       "capital-gains                1000.0  2.512610e+04  2.787219e+04        0.00   \n",
       "capital-loss                 1000.0 -2.679370e+04  2.810410e+04  -111100.00   \n",
       "incident_hour_of_the_day     1000.0  1.164400e+01  6.951373e+00        0.00   \n",
       "number_of_vehicles_involved  1000.0  1.839000e+00  1.018880e+00        1.00   \n",
       "bodily_injuries              1000.0  9.920000e-01  8.201272e-01        0.00   \n",
       "witnesses                    1000.0  1.487000e+00  1.111335e+00        0.00   \n",
       "total_claim_amount           1000.0  5.276194e+04  2.640153e+04      100.00   \n",
       "injury_claim                 1000.0  7.433420e+03  4.880952e+03        0.00   \n",
       "property_claim               1000.0  7.399570e+03  4.824726e+03        0.00   \n",
       "vehicle_claim                1000.0  3.792895e+04  1.888625e+04       70.00   \n",
       "auto_year                    1000.0  2.005103e+03  6.015861e+00     1995.00   \n",
       "_c39                            0.0           NaN           NaN         NaN   \n",
       "\n",
       "                                     25%       50%         75%          max  \n",
       "months_as_customer              115.7500     199.5     276.250       479.00  \n",
       "age                              32.0000      38.0      44.000        64.00  \n",
       "policy_number                335980.2500  533135.0  759099.750    999435.00  \n",
       "policy_deductable               500.0000    1000.0    2000.000      2000.00  \n",
       "policy_annual_premium          1089.6075    1257.2    1415.695      2047.59  \n",
       "umbrella_limit                    0.0000       0.0       0.000  10000000.00  \n",
       "insured_zip                  448404.5000  466445.5  603251.000    620962.00  \n",
       "capital-gains                     0.0000       0.0   51025.000    100500.00  \n",
       "capital-loss                 -51500.0000  -23250.0       0.000         0.00  \n",
       "incident_hour_of_the_day          6.0000      12.0      17.000        23.00  \n",
       "number_of_vehicles_involved       1.0000       1.0       3.000         4.00  \n",
       "bodily_injuries                   0.0000       1.0       2.000         2.00  \n",
       "witnesses                         1.0000       1.0       2.000         3.00  \n",
       "total_claim_amount            41812.5000   58055.0   70592.500    114920.00  \n",
       "injury_claim                   4295.0000    6775.0   11305.000     21450.00  \n",
       "property_claim                 4445.0000    6750.0   10885.000     23670.00  \n",
       "vehicle_claim                 30292.5000   42100.0   50822.500     79560.00  \n",
       "auto_year                      2000.0000    2005.0    2010.000      2015.00  \n",
       "_c39                                 NaN       NaN         NaN          NaN  "
      ]
     },
     "execution_count": 10,
     "metadata": {},
     "output_type": "execute_result"
    }
   ],
   "source": [
    "df.describe().transpose()"
   ]
  },
  {
   "cell_type": "code",
   "execution_count": 11,
   "metadata": {},
   "outputs": [
    {
     "data": {
      "text/plain": [
       "Index(['months_as_customer', 'age', 'policy_number', 'policy_bind_date',\n",
       "       'policy_state', 'policy_csl', 'policy_deductable',\n",
       "       'policy_annual_premium', 'umbrella_limit', 'insured_zip', 'insured_sex',\n",
       "       'insured_education_level', 'insured_occupation', 'insured_hobbies',\n",
       "       'insured_relationship', 'capital-gains', 'capital-loss',\n",
       "       'incident_date', 'incident_type', 'collision_type', 'incident_severity',\n",
       "       'authorities_contacted', 'incident_state', 'incident_city',\n",
       "       'incident_location', 'incident_hour_of_the_day',\n",
       "       'number_of_vehicles_involved', 'property_damage', 'bodily_injuries',\n",
       "       'witnesses', 'police_report_available', 'total_claim_amount',\n",
       "       'injury_claim', 'property_claim', 'vehicle_claim', 'auto_make',\n",
       "       'auto_model', 'auto_year', 'fraud_reported', '_c39'],\n",
       "      dtype='object')"
      ]
     },
     "execution_count": 11,
     "metadata": {},
     "output_type": "execute_result"
    }
   ],
   "source": [
    "df.columns"
   ]
  },
  {
   "cell_type": "code",
   "execution_count": 12,
   "metadata": {},
   "outputs": [
    {
     "data": {
      "text/plain": [
       "N    753\n",
       "Y    247\n",
       "Name: fraud_reported, dtype: int64"
      ]
     },
     "execution_count": 12,
     "metadata": {},
     "output_type": "execute_result"
    }
   ],
   "source": [
    "df['fraud_reported'].value_counts()"
   ]
  },
  {
   "cell_type": "code",
   "execution_count": 13,
   "metadata": {},
   "outputs": [],
   "source": [
    "fraud=df[df['fraud_reported']=='Y']"
   ]
  },
  {
   "cell_type": "code",
   "execution_count": 14,
   "metadata": {},
   "outputs": [
    {
     "name": "stderr",
     "output_type": "stream",
     "text": [
      "/home/soma/snap/jupyter/common/lib/python3.7/site-packages/seaborn/distributions.py:2557: FutureWarning: `distplot` is a deprecated function and will be removed in a future version. Please adapt your code to use either `displot` (a figure-level function with similar flexibility) or `histplot` (an axes-level function for histograms).\n",
      "  warnings.warn(msg, FutureWarning)\n",
      "/home/soma/snap/jupyter/common/lib/python3.7/site-packages/seaborn/distributions.py:2557: FutureWarning: `distplot` is a deprecated function and will be removed in a future version. Please adapt your code to use either `displot` (a figure-level function with similar flexibility) or `histplot` (an axes-level function for histograms).\n",
      "  warnings.warn(msg, FutureWarning)\n",
      "/home/soma/snap/jupyter/common/lib/python3.7/site-packages/seaborn/distributions.py:2557: FutureWarning: `distplot` is a deprecated function and will be removed in a future version. Please adapt your code to use either `displot` (a figure-level function with similar flexibility) or `histplot` (an axes-level function for histograms).\n",
      "  warnings.warn(msg, FutureWarning)\n",
      "/home/soma/snap/jupyter/common/lib/python3.7/site-packages/seaborn/distributions.py:2557: FutureWarning: `distplot` is a deprecated function and will be removed in a future version. Please adapt your code to use either `displot` (a figure-level function with similar flexibility) or `histplot` (an axes-level function for histograms).\n",
      "  warnings.warn(msg, FutureWarning)\n",
      "/home/soma/snap/jupyter/common/lib/python3.7/site-packages/seaborn/distributions.py:2557: FutureWarning: `distplot` is a deprecated function and will be removed in a future version. Please adapt your code to use either `displot` (a figure-level function with similar flexibility) or `histplot` (an axes-level function for histograms).\n",
      "  warnings.warn(msg, FutureWarning)\n",
      "/home/soma/snap/jupyter/common/lib/python3.7/site-packages/seaborn/distributions.py:2557: FutureWarning: `distplot` is a deprecated function and will be removed in a future version. Please adapt your code to use either `displot` (a figure-level function with similar flexibility) or `histplot` (an axes-level function for histograms).\n",
      "  warnings.warn(msg, FutureWarning)\n",
      "/home/soma/snap/jupyter/common/lib/python3.7/site-packages/seaborn/distributions.py:2557: FutureWarning: `distplot` is a deprecated function and will be removed in a future version. Please adapt your code to use either `displot` (a figure-level function with similar flexibility) or `histplot` (an axes-level function for histograms).\n",
      "  warnings.warn(msg, FutureWarning)\n",
      "/home/soma/snap/jupyter/common/lib/python3.7/site-packages/seaborn/distributions.py:2557: FutureWarning: `distplot` is a deprecated function and will be removed in a future version. Please adapt your code to use either `displot` (a figure-level function with similar flexibility) or `histplot` (an axes-level function for histograms).\n",
      "  warnings.warn(msg, FutureWarning)\n",
      "/home/soma/snap/jupyter/common/lib/python3.7/site-packages/seaborn/distributions.py:2557: FutureWarning: `distplot` is a deprecated function and will be removed in a future version. Please adapt your code to use either `displot` (a figure-level function with similar flexibility) or `histplot` (an axes-level function for histograms).\n",
      "  warnings.warn(msg, FutureWarning)\n",
      "/home/soma/snap/jupyter/common/lib/python3.7/site-packages/seaborn/distributions.py:2557: FutureWarning: `distplot` is a deprecated function and will be removed in a future version. Please adapt your code to use either `displot` (a figure-level function with similar flexibility) or `histplot` (an axes-level function for histograms).\n",
      "  warnings.warn(msg, FutureWarning)\n"
     ]
    },
    {
     "data": {
      "text/plain": [
       "<Figure size 1600x1400 with 10 Axes>"
      ]
     },
     "metadata": {},
     "output_type": "display_data"
    }
   ],
   "source": [
    "import seaborn as sns\n",
    "import matplotlib.pyplot as plt\n",
    "\n",
    "col=['months_as_customer','age','policy_deductable','policy_annual_premium','capital-gains','capital-loss','total_claim_amount','injury_claim','property_claim','vehicle_claim']\n",
    "\n",
    "\n",
    "plt.figure(figsize=(16,14))\n",
    "k=1\n",
    "for i in col :\n",
    "    plt.subplot(4,4,k)\n",
    "    sns.distplot(df[i])\n",
    "    k=k+1\n",
    "plt.show()"
   ]
  },
  {
   "cell_type": "code",
   "execution_count": 15,
   "metadata": {},
   "outputs": [
    {
     "data": {
      "text/plain": [
       " 0           798\n",
       " 6000000      57\n",
       " 5000000      46\n",
       " 4000000      39\n",
       " 7000000      29\n",
       " 3000000      12\n",
       " 8000000       8\n",
       " 9000000       5\n",
       " 2000000       3\n",
       " 10000000      2\n",
       "-1000000       1\n",
       "Name: umbrella_limit, dtype: int64"
      ]
     },
     "execution_count": 15,
     "metadata": {},
     "output_type": "execute_result"
    }
   ],
   "source": [
    "df['umbrella_limit'].value_counts()"
   ]
  },
  {
   "cell_type": "code",
   "execution_count": 16,
   "metadata": {},
   "outputs": [],
   "source": [
    "a=df[df['umbrella_limit'] >0]"
   ]
  },
  {
   "cell_type": "code",
   "execution_count": 17,
   "metadata": {},
   "outputs": [
    {
     "name": "stderr",
     "output_type": "stream",
     "text": [
      "/home/soma/snap/jupyter/common/lib/python3.7/site-packages/seaborn/distributions.py:2557: FutureWarning: `distplot` is a deprecated function and will be removed in a future version. Please adapt your code to use either `displot` (a figure-level function with similar flexibility) or `histplot` (an axes-level function for histograms).\n",
      "  warnings.warn(msg, FutureWarning)\n"
     ]
    },
    {
     "data": {
      "text/plain": [
       "<AxesSubplot:xlabel='umbrella_limit', ylabel='Density'>"
      ]
     },
     "execution_count": 17,
     "metadata": {},
     "output_type": "execute_result"
    },
    {
     "data": {
      "image/png": "[encoded data removed]",
      "text/plain": [
       "<Figure size 432x288 with 1 Axes>"
      ]
     },
     "metadata": {
      "needs_background": "light"
     },
     "output_type": "display_data"
    }
   ],
   "source": [
    "sns.distplot(a['umbrella_limit'])"
   ]
  },
  {
   "cell_type": "code",
   "execution_count": 18,
   "metadata": {},
   "outputs": [
    {
     "data": {
      "text/plain": [
       "Index(['months_as_customer', 'age', 'policy_number', 'policy_bind_date',\n",
       "       'policy_state', 'policy_csl', 'policy_deductable',\n",
       "       'policy_annual_premium', 'umbrella_limit', 'insured_zip', 'insured_sex',\n",
       "       'insured_education_level', 'insured_occupation', 'insured_hobbies',\n",
       "       'insured_relationship', 'capital-gains', 'capital-loss',\n",
       "       'incident_date', 'incident_type', 'collision_type', 'incident_severity',\n",
       "       'authorities_contacted', 'incident_state', 'incident_city',\n",
       "       'incident_location', 'incident_hour_of_the_day',\n",
       "       'number_of_vehicles_involved', 'property_damage', 'bodily_injuries',\n",
       "       'witnesses', 'police_report_available', 'total_claim_amount',\n",
       "       'injury_claim', 'property_claim', 'vehicle_claim', 'auto_make',\n",
       "       'auto_model', 'auto_year', 'fraud_reported', '_c39'],\n",
       "      dtype='object')"
      ]
     },
     "execution_count": 18,
     "metadata": {},
     "output_type": "execute_result"
    }
   ],
   "source": [
    "df.columns"
   ]
  },
  {
   "cell_type": "code",
   "execution_count": 19,
   "metadata": {},
   "outputs": [
    {
     "data": {
      "image/png": "[encoded data removed]",
      "text/plain": [
       "<Figure size 576x432 with 1 Axes>"
      ]
     },
     "metadata": {
      "needs_background": "light"
     },
     "output_type": "display_data"
    }
   ],
   "source": [
    "plt.figure(figsize=(8,6))\n",
    "sns.scatterplot(x='age', y='months_as_customer',hue='fraud_reported',data=df)\n",
    "plt.grid(True)\n",
    "plt.show()"
   ]
  },
  {
   "cell_type": "code",
   "execution_count": 20,
   "metadata": {},
   "outputs": [
    {
     "data": {
      "image/png": "[encoded data removed]",
      "text/plain": [
       "<Figure size 864x720 with 1 Axes>"
      ]
     },
     "metadata": {
      "needs_background": "light"
     },
     "output_type": "display_data"
    }
   ],
   "source": [
    "plt.figure(figsize=(12,10))\n",
    "sns.countplot(x='age',hue='fraud_reported',data=df)\n",
    "plt.xticks(rotation=90)\n",
    "plt.show()"
   ]
  },
  {
   "cell_type": "code",
   "execution_count": 21,
   "metadata": {},
   "outputs": [
    {
     "data": {
      "text/html": [
       "<div>\n",
       "<style scoped>\n",
       "    .dataframe tbody tr th:only-of-type {\n",
       "        vertical-align: middle;\n",
       "    }\n",
       "\n",
       "    .dataframe tbody tr th {\n",
       "        vertical-align: top;\n",
       "    }\n",
       "\n",
       "    .dataframe thead th {\n",
       "        text-align: right;\n",
       "    }\n",
       "</style>\n",
       "<table border=\"1\" class=\"dataframe\">\n",
       "  <thead>\n",
       "    <tr style=\"text-align: right;\">\n",
       "      <th></th>\n",
       "      <th>policy_number</th>\n",
       "      <th>insured_occupation</th>\n",
       "      <th>insured_education_level</th>\n",
       "      <th>total_claim_amount</th>\n",
       "    </tr>\n",
       "  </thead>\n",
       "  <tbody>\n",
       "    <tr>\n",
       "      <th>149</th>\n",
       "      <td>217938</td>\n",
       "      <td>craft-repair</td>\n",
       "      <td>JD</td>\n",
       "      <td>112320</td>\n",
       "    </tr>\n",
       "    <tr>\n",
       "      <th>163</th>\n",
       "      <td>346940</td>\n",
       "      <td>prof-specialty</td>\n",
       "      <td>Masters</td>\n",
       "      <td>107900</td>\n",
       "    </tr>\n",
       "    <tr>\n",
       "      <th>479</th>\n",
       "      <td>753844</td>\n",
       "      <td>sales</td>\n",
       "      <td>MD</td>\n",
       "      <td>104610</td>\n",
       "    </tr>\n",
       "    <tr>\n",
       "      <th>145</th>\n",
       "      <td>515050</td>\n",
       "      <td>exec-managerial</td>\n",
       "      <td>Associate</td>\n",
       "      <td>99320</td>\n",
       "    </tr>\n",
       "    <tr>\n",
       "      <th>247</th>\n",
       "      <td>187775</td>\n",
       "      <td>other-service</td>\n",
       "      <td>JD</td>\n",
       "      <td>98670</td>\n",
       "    </tr>\n",
       "    <tr>\n",
       "      <th>91</th>\n",
       "      <td>127754</td>\n",
       "      <td>tech-support</td>\n",
       "      <td>Associate</td>\n",
       "      <td>98340</td>\n",
       "    </tr>\n",
       "    <tr>\n",
       "      <th>974</th>\n",
       "      <td>291006</td>\n",
       "      <td>transport-moving</td>\n",
       "      <td>JD</td>\n",
       "      <td>98280</td>\n",
       "    </tr>\n",
       "    <tr>\n",
       "      <th>23</th>\n",
       "      <td>115399</td>\n",
       "      <td>priv-house-serv</td>\n",
       "      <td>MD</td>\n",
       "      <td>98160</td>\n",
       "    </tr>\n",
       "    <tr>\n",
       "      <th>41</th>\n",
       "      <td>616337</td>\n",
       "      <td>transport-moving</td>\n",
       "      <td>Associate</td>\n",
       "      <td>97080</td>\n",
       "    </tr>\n",
       "    <tr>\n",
       "      <th>796</th>\n",
       "      <td>728025</td>\n",
       "      <td>machine-op-inspct</td>\n",
       "      <td>Masters</td>\n",
       "      <td>92730</td>\n",
       "    </tr>\n",
       "    <tr>\n",
       "      <th>926</th>\n",
       "      <td>752504</td>\n",
       "      <td>transport-moving</td>\n",
       "      <td>Masters</td>\n",
       "      <td>91520</td>\n",
       "    </tr>\n",
       "    <tr>\n",
       "      <th>848</th>\n",
       "      <td>953334</td>\n",
       "      <td>craft-repair</td>\n",
       "      <td>MD</td>\n",
       "      <td>90860</td>\n",
       "    </tr>\n",
       "    <tr>\n",
       "      <th>66</th>\n",
       "      <td>356590</td>\n",
       "      <td>tech-support</td>\n",
       "      <td>High School</td>\n",
       "      <td>89700</td>\n",
       "    </tr>\n",
       "    <tr>\n",
       "      <th>185</th>\n",
       "      <td>442795</td>\n",
       "      <td>tech-support</td>\n",
       "      <td>JD</td>\n",
       "      <td>88660</td>\n",
       "    </tr>\n",
       "    <tr>\n",
       "      <th>517</th>\n",
       "      <td>243226</td>\n",
       "      <td>armed-forces</td>\n",
       "      <td>High School</td>\n",
       "      <td>87960</td>\n",
       "    </tr>\n",
       "    <tr>\n",
       "      <th>628</th>\n",
       "      <td>730819</td>\n",
       "      <td>protective-serv</td>\n",
       "      <td>JD</td>\n",
       "      <td>87890</td>\n",
       "    </tr>\n",
       "    <tr>\n",
       "      <th>727</th>\n",
       "      <td>691115</td>\n",
       "      <td>farming-fishing</td>\n",
       "      <td>JD</td>\n",
       "      <td>86130</td>\n",
       "    </tr>\n",
       "    <tr>\n",
       "      <th>722</th>\n",
       "      <td>334749</td>\n",
       "      <td>handlers-cleaners</td>\n",
       "      <td>Associate</td>\n",
       "      <td>85900</td>\n",
       "    </tr>\n",
       "    <tr>\n",
       "      <th>829</th>\n",
       "      <td>951863</td>\n",
       "      <td>protective-serv</td>\n",
       "      <td>Masters</td>\n",
       "      <td>84920</td>\n",
       "    </tr>\n",
       "    <tr>\n",
       "      <th>593</th>\n",
       "      <td>209177</td>\n",
       "      <td>craft-repair</td>\n",
       "      <td>JD</td>\n",
       "      <td>84590</td>\n",
       "    </tr>\n",
       "  </tbody>\n",
       "</table>\n",
       "</div>"
      ],
      "text/plain": [
       "     policy_number insured_occupation insured_education_level  \\\n",
       "149         217938       craft-repair                      JD   \n",
       "163         346940     prof-specialty                 Masters   \n",
       "479         753844              sales                      MD   \n",
       "145         515050    exec-managerial               Associate   \n",
       "247         187775      other-service                      JD   \n",
       "91          127754       tech-support               Associate   \n",
       "974         291006   transport-moving                      JD   \n",
       "23          115399    priv-house-serv                      MD   \n",
       "41          616337   transport-moving               Associate   \n",
       "796         728025  machine-op-inspct                 Masters   \n",
       "926         752504   transport-moving                 Masters   \n",
       "848         953334       craft-repair                      MD   \n",
       "66          356590       tech-support             High School   \n",
       "185         442795       tech-support                      JD   \n",
       "517         243226       armed-forces             High School   \n",
       "628         730819    protective-serv                      JD   \n",
       "727         691115    farming-fishing                      JD   \n",
       "722         334749  handlers-cleaners               Associate   \n",
       "829         951863    protective-serv                 Masters   \n",
       "593         209177       craft-repair                      JD   \n",
       "\n",
       "     total_claim_amount  \n",
       "149              112320  \n",
       "163              107900  \n",
       "479              104610  \n",
       "145               99320  \n",
       "247               98670  \n",
       "91                98340  \n",
       "974               98280  \n",
       "23                98160  \n",
       "41                97080  \n",
       "796               92730  \n",
       "926               91520  \n",
       "848               90860  \n",
       "66                89700  \n",
       "185               88660  \n",
       "517               87960  \n",
       "628               87890  \n",
       "727               86130  \n",
       "722               85900  \n",
       "829               84920  \n",
       "593               84590  "
      ]
     },
     "execution_count": 21,
     "metadata": {},
     "output_type": "execute_result"
    }
   ],
   "source": [
    "a=df[df['fraud_reported'] == 'Y']\n",
    "\n",
    "a[['policy_number','insured_occupation','insured_education_level','total_claim_amount']].sort_values('total_claim_amount',ascending=False)[:20]"
   ]
  },
  {
   "cell_type": "code",
   "execution_count": 22,
   "metadata": {},
   "outputs": [
    {
     "data": {
      "text/plain": [
       "exec-managerial      28\n",
       "craft-repair         22\n",
       "machine-op-inspct    22\n",
       "tech-support         22\n",
       "transport-moving     21\n",
       "sales                21\n",
       "prof-specialty       18\n",
       "armed-forces         17\n",
       "farming-fishing      16\n",
       "protective-serv      14\n",
       "priv-house-serv      12\n",
       "other-service        12\n",
       "handlers-cleaners    11\n",
       "adm-clerical         11\n",
       "Name: insured_occupation, dtype: int64"
      ]
     },
     "execution_count": 22,
     "metadata": {},
     "output_type": "execute_result"
    }
   ],
   "source": [
    "a['insured_education_level'].value_counts()\n",
    "a['insured_occupation'].value_counts()"
   ]
  },
  {
   "cell_type": "code",
   "execution_count": 23,
   "metadata": {},
   "outputs": [
    {
     "name": "stderr",
     "output_type": "stream",
     "text": [
      "/home/soma/snap/jupyter/common/lib/python3.7/site-packages/seaborn/_decorators.py:43: FutureWarning: Pass the following variable as a keyword arg: x. From version 0.12, the only valid positional argument will be `data`, and passing other arguments without an explicit keyword will result in an error or misinterpretation.\n",
      "  FutureWarning\n",
      "/home/soma/snap/jupyter/common/lib/python3.7/site-packages/seaborn/_decorators.py:43: FutureWarning: Pass the following variable as a keyword arg: x. From version 0.12, the only valid positional argument will be `data`, and passing other arguments without an explicit keyword will result in an error or misinterpretation.\n",
      "  FutureWarning\n"
     ]
    },
    {
     "data": {
      "image/png": "[encoded data removed]",
      "text/plain": [
       "<Figure size 1440x864 with 2 Axes>"
      ]
     },
     "metadata": {},
     "output_type": "display_data"
    }
   ],
   "source": [
    "sns.set(style=\"darkgrid\")\n",
    "\n",
    "plt.figure(figsize=(20,12))\n",
    "plt.subplot(1,2,1)\n",
    "plt.title(\"Count plot for Fraud transaction 'Y' wrt Education level\",fontsize=20)\n",
    "sns.countplot('insured_education_level',data=a)\n",
    "plt.xticks(rotation=45)\n",
    "plt.grid(True)\n",
    "plt.tight_layout()\n",
    "plt.subplot(1,2,2)\n",
    "plt.title(\"Count plot for Fraud transaction 'Y' wrt Occupation\",fontsize=20)\n",
    "sns.countplot('insured_occupation',data=a)\n",
    "plt.xticks(rotation=45)\n",
    "plt.grid(True)\n",
    "plt.tight_layout()\n",
    "plt.show()"
   ]
  },
  {
   "cell_type": "code",
   "execution_count": 24,
   "metadata": {},
   "outputs": [
    {
     "data": {
      "text/html": [
       "<style  type=\"text/css\" >\n",
       "    #T_0ea3967a_034c_11ec_b7d2_5d1d16c68f63row0_col0 {\n",
       "            background-color:  #0000ff;\n",
       "            color:  #f1f1f1;\n",
       "        }    #T_0ea3967a_034c_11ec_b7d2_5d1d16c68f63row1_col0 {\n",
       "            background-color:  #0606ff;\n",
       "            color:  #f1f1f1;\n",
       "        }    #T_0ea3967a_034c_11ec_b7d2_5d1d16c68f63row2_col0 {\n",
       "            background-color:  #1212fe;\n",
       "            color:  #f1f1f1;\n",
       "        }    #T_0ea3967a_034c_11ec_b7d2_5d1d16c68f63row3_col0 {\n",
       "            background-color:  #1313fe;\n",
       "            color:  #f1f1f1;\n",
       "        }    #T_0ea3967a_034c_11ec_b7d2_5d1d16c68f63row4_col0 {\n",
       "            background-color:  #1616fe;\n",
       "            color:  #f1f1f1;\n",
       "        }    #T_0ea3967a_034c_11ec_b7d2_5d1d16c68f63row5_col0 {\n",
       "            background-color:  #1919fe;\n",
       "            color:  #f1f1f1;\n",
       "        }    #T_0ea3967a_034c_11ec_b7d2_5d1d16c68f63row6_col0 {\n",
       "            background-color:  #1f1ffd;\n",
       "            color:  #f1f1f1;\n",
       "        }    #T_0ea3967a_034c_11ec_b7d2_5d1d16c68f63row7_col0 {\n",
       "            background-color:  #2222fd;\n",
       "            color:  #f1f1f1;\n",
       "        }    #T_0ea3967a_034c_11ec_b7d2_5d1d16c68f63row8_col0 {\n",
       "            background-color:  #2424fd;\n",
       "            color:  #f1f1f1;\n",
       "        }    #T_0ea3967a_034c_11ec_b7d2_5d1d16c68f63row9_col0 {\n",
       "            background-color:  #2424fd;\n",
       "            color:  #f1f1f1;\n",
       "        }    #T_0ea3967a_034c_11ec_b7d2_5d1d16c68f63row10_col0 {\n",
       "            background-color:  #2727fd;\n",
       "            color:  #f1f1f1;\n",
       "        }    #T_0ea3967a_034c_11ec_b7d2_5d1d16c68f63row11_col0 {\n",
       "            background-color:  #2828fd;\n",
       "            color:  #f1f1f1;\n",
       "        }    #T_0ea3967a_034c_11ec_b7d2_5d1d16c68f63row12_col0 {\n",
       "            background-color:  #2828fd;\n",
       "            color:  #f1f1f1;\n",
       "        }    #T_0ea3967a_034c_11ec_b7d2_5d1d16c68f63row13_col0 {\n",
       "            background-color:  #2b2bfd;\n",
       "            color:  #f1f1f1;\n",
       "        }    #T_0ea3967a_034c_11ec_b7d2_5d1d16c68f63row14_col0 {\n",
       "            background-color:  #2c2cfd;\n",
       "            color:  #f1f1f1;\n",
       "        }    #T_0ea3967a_034c_11ec_b7d2_5d1d16c68f63row15_col0 {\n",
       "            background-color:  #2d2dfd;\n",
       "            color:  #f1f1f1;\n",
       "        }    #T_0ea3967a_034c_11ec_b7d2_5d1d16c68f63row16_col0 {\n",
       "            background-color:  #2d2dfd;\n",
       "            color:  #f1f1f1;\n",
       "        }    #T_0ea3967a_034c_11ec_b7d2_5d1d16c68f63row17_col0 {\n",
       "            background-color:  #2e2efd;\n",
       "            color:  #f1f1f1;\n",
       "        }    #T_0ea3967a_034c_11ec_b7d2_5d1d16c68f63row18_col0 {\n",
       "            background-color:  #2e2efd;\n",
       "            color:  #f1f1f1;\n",
       "        }    #T_0ea3967a_034c_11ec_b7d2_5d1d16c68f63row19_col0 {\n",
       "            background-color:  #2e2efd;\n",
       "            color:  #f1f1f1;\n",
       "        }    #T_0ea3967a_034c_11ec_b7d2_5d1d16c68f63row20_col0 {\n",
       "            background-color:  #2f2ffd;\n",
       "            color:  #f1f1f1;\n",
       "        }    #T_0ea3967a_034c_11ec_b7d2_5d1d16c68f63row21_col0 {\n",
       "            background-color:  #2f2ffd;\n",
       "            color:  #f1f1f1;\n",
       "        }    #T_0ea3967a_034c_11ec_b7d2_5d1d16c68f63row22_col0 {\n",
       "            background-color:  #3030fd;\n",
       "            color:  #f1f1f1;\n",
       "        }    #T_0ea3967a_034c_11ec_b7d2_5d1d16c68f63row23_col0 {\n",
       "            background-color:  #3131fd;\n",
       "            color:  #f1f1f1;\n",
       "        }    #T_0ea3967a_034c_11ec_b7d2_5d1d16c68f63row24_col0 {\n",
       "            background-color:  #3333fc;\n",
       "            color:  #f1f1f1;\n",
       "        }    #T_0ea3967a_034c_11ec_b7d2_5d1d16c68f63row25_col0 {\n",
       "            background-color:  #3636fc;\n",
       "            color:  #f1f1f1;\n",
       "        }    #T_0ea3967a_034c_11ec_b7d2_5d1d16c68f63row26_col0 {\n",
       "            background-color:  #3636fc;\n",
       "            color:  #f1f1f1;\n",
       "        }    #T_0ea3967a_034c_11ec_b7d2_5d1d16c68f63row27_col0 {\n",
       "            background-color:  #3838fc;\n",
       "            color:  #f1f1f1;\n",
       "        }    #T_0ea3967a_034c_11ec_b7d2_5d1d16c68f63row28_col0 {\n",
       "            background-color:  #3939fc;\n",
       "            color:  #f1f1f1;\n",
       "        }    #T_0ea3967a_034c_11ec_b7d2_5d1d16c68f63row29_col0 {\n",
       "            background-color:  #3a3afc;\n",
       "            color:  #f1f1f1;\n",
       "        }    #T_0ea3967a_034c_11ec_b7d2_5d1d16c68f63row30_col0 {\n",
       "            background-color:  #3c3cfc;\n",
       "            color:  #f1f1f1;\n",
       "        }    #T_0ea3967a_034c_11ec_b7d2_5d1d16c68f63row31_col0 {\n",
       "            background-color:  #3c3cfc;\n",
       "            color:  #f1f1f1;\n",
       "        }    #T_0ea3967a_034c_11ec_b7d2_5d1d16c68f63row32_col0 {\n",
       "            background-color:  #3d3dfc;\n",
       "            color:  #f1f1f1;\n",
       "        }    #T_0ea3967a_034c_11ec_b7d2_5d1d16c68f63row33_col0 {\n",
       "            background-color:  #3d3dfc;\n",
       "            color:  #f1f1f1;\n",
       "        }    #T_0ea3967a_034c_11ec_b7d2_5d1d16c68f63row34_col0 {\n",
       "            background-color:  #3f3ffc;\n",
       "            color:  #f1f1f1;\n",
       "        }    #T_0ea3967a_034c_11ec_b7d2_5d1d16c68f63row35_col0 {\n",
       "            background-color:  #4141fc;\n",
       "            color:  #f1f1f1;\n",
       "        }    #T_0ea3967a_034c_11ec_b7d2_5d1d16c68f63row36_col0 {\n",
       "            background-color:  #4141fc;\n",
       "            color:  #f1f1f1;\n",
       "        }    #T_0ea3967a_034c_11ec_b7d2_5d1d16c68f63row37_col0 {\n",
       "            background-color:  #4242fc;\n",
       "            color:  #f1f1f1;\n",
       "        }    #T_0ea3967a_034c_11ec_b7d2_5d1d16c68f63row38_col0 {\n",
       "            background-color:  #4343fc;\n",
       "            color:  #f1f1f1;\n",
       "        }    #T_0ea3967a_034c_11ec_b7d2_5d1d16c68f63row39_col0 {\n",
       "            background-color:  #4444fc;\n",
       "            color:  #f1f1f1;\n",
       "        }    #T_0ea3967a_034c_11ec_b7d2_5d1d16c68f63row40_col0 {\n",
       "            background-color:  #4646fb;\n",
       "            color:  #f1f1f1;\n",
       "        }    #T_0ea3967a_034c_11ec_b7d2_5d1d16c68f63row41_col0 {\n",
       "            background-color:  #4646fb;\n",
       "            color:  #f1f1f1;\n",
       "        }    #T_0ea3967a_034c_11ec_b7d2_5d1d16c68f63row42_col0 {\n",
       "            background-color:  #4747fb;\n",
       "            color:  #f1f1f1;\n",
       "        }    #T_0ea3967a_034c_11ec_b7d2_5d1d16c68f63row43_col0 {\n",
       "            background-color:  #4747fb;\n",
       "            color:  #f1f1f1;\n",
       "        }    #T_0ea3967a_034c_11ec_b7d2_5d1d16c68f63row44_col0 {\n",
       "            background-color:  #4848fb;\n",
       "            color:  #f1f1f1;\n",
       "        }    #T_0ea3967a_034c_11ec_b7d2_5d1d16c68f63row45_col0 {\n",
       "            background-color:  #4a4afb;\n",
       "            color:  #f1f1f1;\n",
       "        }    #T_0ea3967a_034c_11ec_b7d2_5d1d16c68f63row46_col0 {\n",
       "            background-color:  #4e4efb;\n",
       "            color:  #f1f1f1;\n",
       "        }    #T_0ea3967a_034c_11ec_b7d2_5d1d16c68f63row47_col0 {\n",
       "            background-color:  #5050fb;\n",
       "            color:  #f1f1f1;\n",
       "        }    #T_0ea3967a_034c_11ec_b7d2_5d1d16c68f63row48_col0 {\n",
       "            background-color:  #5151fb;\n",
       "            color:  #f1f1f1;\n",
       "        }    #T_0ea3967a_034c_11ec_b7d2_5d1d16c68f63row49_col0 {\n",
       "            background-color:  #5151fb;\n",
       "            color:  #f1f1f1;\n",
       "        }    #T_0ea3967a_034c_11ec_b7d2_5d1d16c68f63row50_col0 {\n",
       "            background-color:  #5252fb;\n",
       "            color:  #f1f1f1;\n",
       "        }    #T_0ea3967a_034c_11ec_b7d2_5d1d16c68f63row51_col0 {\n",
       "            background-color:  #5252fb;\n",
       "            color:  #f1f1f1;\n",
       "        }    #T_0ea3967a_034c_11ec_b7d2_5d1d16c68f63row52_col0 {\n",
       "            background-color:  #5353fb;\n",
       "            color:  #f1f1f1;\n",
       "        }    #T_0ea3967a_034c_11ec_b7d2_5d1d16c68f63row53_col0 {\n",
       "            background-color:  #5353fb;\n",
       "            color:  #f1f1f1;\n",
       "        }    #T_0ea3967a_034c_11ec_b7d2_5d1d16c68f63row54_col0 {\n",
       "            background-color:  #5454fb;\n",
       "            color:  #f1f1f1;\n",
       "        }    #T_0ea3967a_034c_11ec_b7d2_5d1d16c68f63row55_col0 {\n",
       "            background-color:  #5454fb;\n",
       "            color:  #f1f1f1;\n",
       "        }    #T_0ea3967a_034c_11ec_b7d2_5d1d16c68f63row56_col0 {\n",
       "            background-color:  #5454fb;\n",
       "            color:  #f1f1f1;\n",
       "        }    #T_0ea3967a_034c_11ec_b7d2_5d1d16c68f63row57_col0 {\n",
       "            background-color:  #5757fb;\n",
       "            color:  #f1f1f1;\n",
       "        }    #T_0ea3967a_034c_11ec_b7d2_5d1d16c68f63row58_col0 {\n",
       "            background-color:  #5a5afa;\n",
       "            color:  #f1f1f1;\n",
       "        }    #T_0ea3967a_034c_11ec_b7d2_5d1d16c68f63row59_col0 {\n",
       "            background-color:  #5a5afa;\n",
       "            color:  #f1f1f1;\n",
       "        }    #T_0ea3967a_034c_11ec_b7d2_5d1d16c68f63row60_col0 {\n",
       "            background-color:  #5b5bfa;\n",
       "            color:  #f1f1f1;\n",
       "        }    #T_0ea3967a_034c_11ec_b7d2_5d1d16c68f63row61_col0 {\n",
       "            background-color:  #5b5bfa;\n",
       "            color:  #f1f1f1;\n",
       "        }    #T_0ea3967a_034c_11ec_b7d2_5d1d16c68f63row62_col0 {\n",
       "            background-color:  #5b5bfa;\n",
       "            color:  #f1f1f1;\n",
       "        }    #T_0ea3967a_034c_11ec_b7d2_5d1d16c68f63row63_col0 {\n",
       "            background-color:  #5b5bfa;\n",
       "            color:  #f1f1f1;\n",
       "        }    #T_0ea3967a_034c_11ec_b7d2_5d1d16c68f63row64_col0 {\n",
       "            background-color:  #5d5dfa;\n",
       "            color:  #000000;\n",
       "        }    #T_0ea3967a_034c_11ec_b7d2_5d1d16c68f63row65_col0 {\n",
       "            background-color:  #5d5dfa;\n",
       "            color:  #000000;\n",
       "        }    #T_0ea3967a_034c_11ec_b7d2_5d1d16c68f63row66_col0 {\n",
       "            background-color:  #5e5efa;\n",
       "            color:  #000000;\n",
       "        }    #T_0ea3967a_034c_11ec_b7d2_5d1d16c68f63row67_col0 {\n",
       "            background-color:  #5e5efa;\n",
       "            color:  #000000;\n",
       "        }    #T_0ea3967a_034c_11ec_b7d2_5d1d16c68f63row68_col0 {\n",
       "            background-color:  #5f5ffa;\n",
       "            color:  #000000;\n",
       "        }    #T_0ea3967a_034c_11ec_b7d2_5d1d16c68f63row69_col0 {\n",
       "            background-color:  #6161fa;\n",
       "            color:  #000000;\n",
       "        }    #T_0ea3967a_034c_11ec_b7d2_5d1d16c68f63row70_col0 {\n",
       "            background-color:  #6363fa;\n",
       "            color:  #000000;\n",
       "        }    #T_0ea3967a_034c_11ec_b7d2_5d1d16c68f63row71_col0 {\n",
       "            background-color:  #6464fa;\n",
       "            color:  #000000;\n",
       "        }    #T_0ea3967a_034c_11ec_b7d2_5d1d16c68f63row72_col0 {\n",
       "            background-color:  #6969fa;\n",
       "            color:  #000000;\n",
       "        }    #T_0ea3967a_034c_11ec_b7d2_5d1d16c68f63row73_col0 {\n",
       "            background-color:  #6e6ef9;\n",
       "            color:  #000000;\n",
       "        }    #T_0ea3967a_034c_11ec_b7d2_5d1d16c68f63row74_col0 {\n",
       "            background-color:  #7373f9;\n",
       "            color:  #000000;\n",
       "        }    #T_0ea3967a_034c_11ec_b7d2_5d1d16c68f63row75_col0 {\n",
       "            background-color:  #7474f9;\n",
       "            color:  #000000;\n",
       "        }    #T_0ea3967a_034c_11ec_b7d2_5d1d16c68f63row76_col0 {\n",
       "            background-color:  #7575f9;\n",
       "            color:  #000000;\n",
       "        }    #T_0ea3967a_034c_11ec_b7d2_5d1d16c68f63row77_col0 {\n",
       "            background-color:  #7575f9;\n",
       "            color:  #000000;\n",
       "        }    #T_0ea3967a_034c_11ec_b7d2_5d1d16c68f63row78_col0 {\n",
       "            background-color:  #7979f9;\n",
       "            color:  #000000;\n",
       "        }    #T_0ea3967a_034c_11ec_b7d2_5d1d16c68f63row79_col0 {\n",
       "            background-color:  #7b7bf9;\n",
       "            color:  #000000;\n",
       "        }    #T_0ea3967a_034c_11ec_b7d2_5d1d16c68f63row80_col0 {\n",
       "            background-color:  #8282f8;\n",
       "            color:  #000000;\n",
       "        }    #T_0ea3967a_034c_11ec_b7d2_5d1d16c68f63row81_col0 {\n",
       "            background-color:  #8989f8;\n",
       "            color:  #000000;\n",
       "        }    #T_0ea3967a_034c_11ec_b7d2_5d1d16c68f63row82_col0 {\n",
       "            background-color:  #8a8af8;\n",
       "            color:  #000000;\n",
       "        }    #T_0ea3967a_034c_11ec_b7d2_5d1d16c68f63row83_col0 {\n",
       "            background-color:  #8e8ef8;\n",
       "            color:  #000000;\n",
       "        }    #T_0ea3967a_034c_11ec_b7d2_5d1d16c68f63row84_col0 {\n",
       "            background-color:  #9e9ef7;\n",
       "            color:  #000000;\n",
       "        }    #T_0ea3967a_034c_11ec_b7d2_5d1d16c68f63row85_col0 {\n",
       "            background-color:  #a2a2f7;\n",
       "            color:  #000000;\n",
       "        }    #T_0ea3967a_034c_11ec_b7d2_5d1d16c68f63row86_col0 {\n",
       "            background-color:  #a4a4f7;\n",
       "            color:  #000000;\n",
       "        }    #T_0ea3967a_034c_11ec_b7d2_5d1d16c68f63row87_col0 {\n",
       "            background-color:  #aaaaf6;\n",
       "            color:  #000000;\n",
       "        }    #T_0ea3967a_034c_11ec_b7d2_5d1d16c68f63row88_col0 {\n",
       "            background-color:  #b4b4f6;\n",
       "            color:  #000000;\n",
       "        }    #T_0ea3967a_034c_11ec_b7d2_5d1d16c68f63row89_col0 {\n",
       "            background-color:  #eeeef3;\n",
       "            color:  #000000;\n",
       "        }    #T_0ea3967a_034c_11ec_b7d2_5d1d16c68f63row90_col0 {\n",
       "            background-color:  #f0f0f3;\n",
       "            color:  #000000;\n",
       "        }</style><table id=\"T_0ea3967a_034c_11ec_b7d2_5d1d16c68f63\" ><thead>    <tr>        <th class=\"blank\" ></th>        <th class=\"blank level0\" ></th>        <th class=\"col_heading level0 col0\" >total_claim_amount</th>    </tr>    <tr>        <th class=\"index_name level0\" >insured_occupation</th>        <th class=\"index_name level1\" >insured_education_level</th>        <th class=\"blank\" ></th>    </tr></thead><tbody>\n",
       "                <tr>\n",
       "                        <th id=\"T_0ea3967a_034c_11ec_b7d2_5d1d16c68f63level0_row0\" class=\"row_heading level0 row0\" >protective-serv</th>\n",
       "                        <th id=\"T_0ea3967a_034c_11ec_b7d2_5d1d16c68f63level1_row0\" class=\"row_heading level1 row0\" >JD</th>\n",
       "                        <td id=\"T_0ea3967a_034c_11ec_b7d2_5d1d16c68f63row0_col0\" class=\"data row0 col0\" >87890.000000</td>\n",
       "            </tr>\n",
       "            <tr>\n",
       "                        <th id=\"T_0ea3967a_034c_11ec_b7d2_5d1d16c68f63level0_row1\" class=\"row_heading level0 row1\" >handlers-cleaners</th>\n",
       "                        <th id=\"T_0ea3967a_034c_11ec_b7d2_5d1d16c68f63level1_row1\" class=\"row_heading level1 row1\" >Associate</th>\n",
       "                        <td id=\"T_0ea3967a_034c_11ec_b7d2_5d1d16c68f63row1_col0\" class=\"data row1 col0\" >85900.000000</td>\n",
       "            </tr>\n",
       "            <tr>\n",
       "                        <th id=\"T_0ea3967a_034c_11ec_b7d2_5d1d16c68f63level0_row2\" class=\"row_heading level0 row2\" >priv-house-serv</th>\n",
       "                        <th id=\"T_0ea3967a_034c_11ec_b7d2_5d1d16c68f63level1_row2\" class=\"row_heading level1 row2\" >MD</th>\n",
       "                        <td id=\"T_0ea3967a_034c_11ec_b7d2_5d1d16c68f63row2_col0\" class=\"data row2 col0\" >81353.333333</td>\n",
       "            </tr>\n",
       "            <tr>\n",
       "                        <th id=\"T_0ea3967a_034c_11ec_b7d2_5d1d16c68f63level0_row3\" class=\"row_heading level0 row3\" >other-service</th>\n",
       "                        <th id=\"T_0ea3967a_034c_11ec_b7d2_5d1d16c68f63level1_row3\" class=\"row_heading level1 row3\" >JD</th>\n",
       "                        <td id=\"T_0ea3967a_034c_11ec_b7d2_5d1d16c68f63row3_col0\" class=\"data row3 col0\" >81135.000000</td>\n",
       "            </tr>\n",
       "            <tr>\n",
       "                        <th id=\"T_0ea3967a_034c_11ec_b7d2_5d1d16c68f63level0_row4\" class=\"row_heading level0 row4\" >tech-support</th>\n",
       "                        <th id=\"T_0ea3967a_034c_11ec_b7d2_5d1d16c68f63level1_row4\" class=\"row_heading level1 row4\" >Associate</th>\n",
       "                        <td id=\"T_0ea3967a_034c_11ec_b7d2_5d1d16c68f63row4_col0\" class=\"data row4 col0\" >80113.333333</td>\n",
       "            </tr>\n",
       "            <tr>\n",
       "                        <th id=\"T_0ea3967a_034c_11ec_b7d2_5d1d16c68f63level0_row5\" class=\"row_heading level0 row5\" rowspan=2>transport-moving</th>\n",
       "                        <th id=\"T_0ea3967a_034c_11ec_b7d2_5d1d16c68f63level1_row5\" class=\"row_heading level1 row5\" >JD</th>\n",
       "                        <td id=\"T_0ea3967a_034c_11ec_b7d2_5d1d16c68f63row5_col0\" class=\"data row5 col0\" >79225.000000</td>\n",
       "            </tr>\n",
       "            <tr>\n",
       "                                <th id=\"T_0ea3967a_034c_11ec_b7d2_5d1d16c68f63level1_row6\" class=\"row_heading level1 row6\" >Associate</th>\n",
       "                        <td id=\"T_0ea3967a_034c_11ec_b7d2_5d1d16c68f63row6_col0\" class=\"data row6 col0\" >76873.333333</td>\n",
       "            </tr>\n",
       "            <tr>\n",
       "                        <th id=\"T_0ea3967a_034c_11ec_b7d2_5d1d16c68f63level0_row7\" class=\"row_heading level0 row7\" rowspan=3>protective-serv</th>\n",
       "                        <th id=\"T_0ea3967a_034c_11ec_b7d2_5d1d16c68f63level1_row7\" class=\"row_heading level1 row7\" >High School</th>\n",
       "                        <td id=\"T_0ea3967a_034c_11ec_b7d2_5d1d16c68f63row7_col0\" class=\"data row7 col0\" >76010.000000</td>\n",
       "            </tr>\n",
       "            <tr>\n",
       "                                <th id=\"T_0ea3967a_034c_11ec_b7d2_5d1d16c68f63level1_row8\" class=\"row_heading level1 row8\" >MD</th>\n",
       "                        <td id=\"T_0ea3967a_034c_11ec_b7d2_5d1d16c68f63row8_col0\" class=\"data row8 col0\" >75290.000000</td>\n",
       "            </tr>\n",
       "            <tr>\n",
       "                                <th id=\"T_0ea3967a_034c_11ec_b7d2_5d1d16c68f63level1_row9\" class=\"row_heading level1 row9\" >College</th>\n",
       "                        <td id=\"T_0ea3967a_034c_11ec_b7d2_5d1d16c68f63row9_col0\" class=\"data row9 col0\" >75185.000000</td>\n",
       "            </tr>\n",
       "            <tr>\n",
       "                        <th id=\"T_0ea3967a_034c_11ec_b7d2_5d1d16c68f63level0_row10\" class=\"row_heading level0 row10\" >transport-moving</th>\n",
       "                        <th id=\"T_0ea3967a_034c_11ec_b7d2_5d1d16c68f63level1_row10\" class=\"row_heading level1 row10\" >Masters</th>\n",
       "                        <td id=\"T_0ea3967a_034c_11ec_b7d2_5d1d16c68f63row10_col0\" class=\"data row10 col0\" >74102.000000</td>\n",
       "            </tr>\n",
       "            <tr>\n",
       "                        <th id=\"T_0ea3967a_034c_11ec_b7d2_5d1d16c68f63level0_row11\" class=\"row_heading level0 row11\" >adm-clerical</th>\n",
       "                        <th id=\"T_0ea3967a_034c_11ec_b7d2_5d1d16c68f63level1_row11\" class=\"row_heading level1 row11\" >College</th>\n",
       "                        <td id=\"T_0ea3967a_034c_11ec_b7d2_5d1d16c68f63row11_col0\" class=\"data row11 col0\" >74020.000000</td>\n",
       "            </tr>\n",
       "            <tr>\n",
       "                        <th id=\"T_0ea3967a_034c_11ec_b7d2_5d1d16c68f63level0_row12\" class=\"row_heading level0 row12\" >prof-specialty</th>\n",
       "                        <th id=\"T_0ea3967a_034c_11ec_b7d2_5d1d16c68f63level1_row12\" class=\"row_heading level1 row12\" >Masters</th>\n",
       "                        <td id=\"T_0ea3967a_034c_11ec_b7d2_5d1d16c68f63row12_col0\" class=\"data row12 col0\" >73862.500000</td>\n",
       "            </tr>\n",
       "            <tr>\n",
       "                        <th id=\"T_0ea3967a_034c_11ec_b7d2_5d1d16c68f63level0_row13\" class=\"row_heading level0 row13\" >craft-repair</th>\n",
       "                        <th id=\"T_0ea3967a_034c_11ec_b7d2_5d1d16c68f63level1_row13\" class=\"row_heading level1 row13\" >MD</th>\n",
       "                        <td id=\"T_0ea3967a_034c_11ec_b7d2_5d1d16c68f63row13_col0\" class=\"data row13 col0\" >72558.000000</td>\n",
       "            </tr>\n",
       "            <tr>\n",
       "                        <th id=\"T_0ea3967a_034c_11ec_b7d2_5d1d16c68f63level0_row14\" class=\"row_heading level0 row14\" >exec-managerial</th>\n",
       "                        <th id=\"T_0ea3967a_034c_11ec_b7d2_5d1d16c68f63level1_row14\" class=\"row_heading level1 row14\" >MD</th>\n",
       "                        <td id=\"T_0ea3967a_034c_11ec_b7d2_5d1d16c68f63row14_col0\" class=\"data row14 col0\" >72233.333333</td>\n",
       "            </tr>\n",
       "            <tr>\n",
       "                        <th id=\"T_0ea3967a_034c_11ec_b7d2_5d1d16c68f63level0_row15\" class=\"row_heading level0 row15\" >armed-forces</th>\n",
       "                        <th id=\"T_0ea3967a_034c_11ec_b7d2_5d1d16c68f63level1_row15\" class=\"row_heading level1 row15\" >Associate</th>\n",
       "                        <td id=\"T_0ea3967a_034c_11ec_b7d2_5d1d16c68f63row15_col0\" class=\"data row15 col0\" >72035.000000</td>\n",
       "            </tr>\n",
       "            <tr>\n",
       "                        <th id=\"T_0ea3967a_034c_11ec_b7d2_5d1d16c68f63level0_row16\" class=\"row_heading level0 row16\" >craft-repair</th>\n",
       "                        <th id=\"T_0ea3967a_034c_11ec_b7d2_5d1d16c68f63level1_row16\" class=\"row_heading level1 row16\" >JD</th>\n",
       "                        <td id=\"T_0ea3967a_034c_11ec_b7d2_5d1d16c68f63row16_col0\" class=\"data row16 col0\" >71936.666667</td>\n",
       "            </tr>\n",
       "            <tr>\n",
       "                        <th id=\"T_0ea3967a_034c_11ec_b7d2_5d1d16c68f63level0_row17\" class=\"row_heading level0 row17\" >adm-clerical</th>\n",
       "                        <th id=\"T_0ea3967a_034c_11ec_b7d2_5d1d16c68f63level1_row17\" class=\"row_heading level1 row17\" >PhD</th>\n",
       "                        <td id=\"T_0ea3967a_034c_11ec_b7d2_5d1d16c68f63row17_col0\" class=\"data row17 col0\" >71680.000000</td>\n",
       "            </tr>\n",
       "            <tr>\n",
       "                        <th id=\"T_0ea3967a_034c_11ec_b7d2_5d1d16c68f63level0_row18\" class=\"row_heading level0 row18\" >armed-forces</th>\n",
       "                        <th id=\"T_0ea3967a_034c_11ec_b7d2_5d1d16c68f63level1_row18\" class=\"row_heading level1 row18\" >High School</th>\n",
       "                        <td id=\"T_0ea3967a_034c_11ec_b7d2_5d1d16c68f63row18_col0\" class=\"data row18 col0\" >71580.000000</td>\n",
       "            </tr>\n",
       "            <tr>\n",
       "                        <th id=\"T_0ea3967a_034c_11ec_b7d2_5d1d16c68f63level0_row19\" class=\"row_heading level0 row19\" >prof-specialty</th>\n",
       "                        <th id=\"T_0ea3967a_034c_11ec_b7d2_5d1d16c68f63level1_row19\" class=\"row_heading level1 row19\" >High School</th>\n",
       "                        <td id=\"T_0ea3967a_034c_11ec_b7d2_5d1d16c68f63row19_col0\" class=\"data row19 col0\" >71520.000000</td>\n",
       "            </tr>\n",
       "            <tr>\n",
       "                        <th id=\"T_0ea3967a_034c_11ec_b7d2_5d1d16c68f63level0_row20\" class=\"row_heading level0 row20\" >sales</th>\n",
       "                        <th id=\"T_0ea3967a_034c_11ec_b7d2_5d1d16c68f63level1_row20\" class=\"row_heading level1 row20\" >MD</th>\n",
       "                        <td id=\"T_0ea3967a_034c_11ec_b7d2_5d1d16c68f63row20_col0\" class=\"data row20 col0\" >71212.000000</td>\n",
       "            </tr>\n",
       "            <tr>\n",
       "                        <th id=\"T_0ea3967a_034c_11ec_b7d2_5d1d16c68f63level0_row21\" class=\"row_heading level0 row21\" >armed-forces</th>\n",
       "                        <th id=\"T_0ea3967a_034c_11ec_b7d2_5d1d16c68f63level1_row21\" class=\"row_heading level1 row21\" >College</th>\n",
       "                        <td id=\"T_0ea3967a_034c_11ec_b7d2_5d1d16c68f63row21_col0\" class=\"data row21 col0\" >71170.000000</td>\n",
       "            </tr>\n",
       "            <tr>\n",
       "                        <th id=\"T_0ea3967a_034c_11ec_b7d2_5d1d16c68f63level0_row22\" class=\"row_heading level0 row22\" >tech-support</th>\n",
       "                        <th id=\"T_0ea3967a_034c_11ec_b7d2_5d1d16c68f63level1_row22\" class=\"row_heading level1 row22\" >High School</th>\n",
       "                        <td id=\"T_0ea3967a_034c_11ec_b7d2_5d1d16c68f63row22_col0\" class=\"data row22 col0\" >71072.500000</td>\n",
       "            </tr>\n",
       "            <tr>\n",
       "                        <th id=\"T_0ea3967a_034c_11ec_b7d2_5d1d16c68f63level0_row23\" class=\"row_heading level0 row23\" >craft-repair</th>\n",
       "                        <th id=\"T_0ea3967a_034c_11ec_b7d2_5d1d16c68f63level1_row23\" class=\"row_heading level1 row23\" >PhD</th>\n",
       "                        <td id=\"T_0ea3967a_034c_11ec_b7d2_5d1d16c68f63row23_col0\" class=\"data row23 col0\" >70606.666667</td>\n",
       "            </tr>\n",
       "            <tr>\n",
       "                        <th id=\"T_0ea3967a_034c_11ec_b7d2_5d1d16c68f63level0_row24\" class=\"row_heading level0 row24\" rowspan=2>sales</th>\n",
       "                        <th id=\"T_0ea3967a_034c_11ec_b7d2_5d1d16c68f63level1_row24\" class=\"row_heading level1 row24\" >PhD</th>\n",
       "                        <td id=\"T_0ea3967a_034c_11ec_b7d2_5d1d16c68f63row24_col0\" class=\"data row24 col0\" >69935.000000</td>\n",
       "            </tr>\n",
       "            <tr>\n",
       "                                <th id=\"T_0ea3967a_034c_11ec_b7d2_5d1d16c68f63level1_row25\" class=\"row_heading level1 row25\" >High School</th>\n",
       "                        <td id=\"T_0ea3967a_034c_11ec_b7d2_5d1d16c68f63row25_col0\" class=\"data row25 col0\" >68983.333333</td>\n",
       "            </tr>\n",
       "            <tr>\n",
       "                        <th id=\"T_0ea3967a_034c_11ec_b7d2_5d1d16c68f63level0_row26\" class=\"row_heading level0 row26\" >other-service</th>\n",
       "                        <th id=\"T_0ea3967a_034c_11ec_b7d2_5d1d16c68f63level1_row26\" class=\"row_heading level1 row26\" >MD</th>\n",
       "                        <td id=\"T_0ea3967a_034c_11ec_b7d2_5d1d16c68f63row26_col0\" class=\"data row26 col0\" >68805.000000</td>\n",
       "            </tr>\n",
       "            <tr>\n",
       "                        <th id=\"T_0ea3967a_034c_11ec_b7d2_5d1d16c68f63level0_row27\" class=\"row_heading level0 row27\" >prof-specialty</th>\n",
       "                        <th id=\"T_0ea3967a_034c_11ec_b7d2_5d1d16c68f63level1_row27\" class=\"row_heading level1 row27\" >PhD</th>\n",
       "                        <td id=\"T_0ea3967a_034c_11ec_b7d2_5d1d16c68f63row27_col0\" class=\"data row27 col0\" >68343.333333</td>\n",
       "            </tr>\n",
       "            <tr>\n",
       "                        <th id=\"T_0ea3967a_034c_11ec_b7d2_5d1d16c68f63level0_row28\" class=\"row_heading level0 row28\" >machine-op-inspct</th>\n",
       "                        <th id=\"T_0ea3967a_034c_11ec_b7d2_5d1d16c68f63level1_row28\" class=\"row_heading level1 row28\" >Masters</th>\n",
       "                        <td id=\"T_0ea3967a_034c_11ec_b7d2_5d1d16c68f63row28_col0\" class=\"data row28 col0\" >68092.500000</td>\n",
       "            </tr>\n",
       "            <tr>\n",
       "                        <th id=\"T_0ea3967a_034c_11ec_b7d2_5d1d16c68f63level0_row29\" class=\"row_heading level0 row29\" >transport-moving</th>\n",
       "                        <th id=\"T_0ea3967a_034c_11ec_b7d2_5d1d16c68f63level1_row29\" class=\"row_heading level1 row29\" >PhD</th>\n",
       "                        <td id=\"T_0ea3967a_034c_11ec_b7d2_5d1d16c68f63row29_col0\" class=\"data row29 col0\" >67233.333333</td>\n",
       "            </tr>\n",
       "            <tr>\n",
       "                        <th id=\"T_0ea3967a_034c_11ec_b7d2_5d1d16c68f63level0_row30\" class=\"row_heading level0 row30\" >protective-serv</th>\n",
       "                        <th id=\"T_0ea3967a_034c_11ec_b7d2_5d1d16c68f63level1_row30\" class=\"row_heading level1 row30\" >Masters</th>\n",
       "                        <td id=\"T_0ea3967a_034c_11ec_b7d2_5d1d16c68f63row30_col0\" class=\"data row30 col0\" >66693.333333</td>\n",
       "            </tr>\n",
       "            <tr>\n",
       "                        <th id=\"T_0ea3967a_034c_11ec_b7d2_5d1d16c68f63level0_row31\" class=\"row_heading level0 row31\" >tech-support</th>\n",
       "                        <th id=\"T_0ea3967a_034c_11ec_b7d2_5d1d16c68f63level1_row31\" class=\"row_heading level1 row31\" >JD</th>\n",
       "                        <td id=\"T_0ea3967a_034c_11ec_b7d2_5d1d16c68f63row31_col0\" class=\"data row31 col0\" >66636.666667</td>\n",
       "            </tr>\n",
       "            <tr>\n",
       "                        <th id=\"T_0ea3967a_034c_11ec_b7d2_5d1d16c68f63level0_row32\" class=\"row_heading level0 row32\" >machine-op-inspct</th>\n",
       "                        <th id=\"T_0ea3967a_034c_11ec_b7d2_5d1d16c68f63level1_row32\" class=\"row_heading level1 row32\" >High School</th>\n",
       "                        <td id=\"T_0ea3967a_034c_11ec_b7d2_5d1d16c68f63row32_col0\" class=\"data row32 col0\" >66290.000000</td>\n",
       "            </tr>\n",
       "            <tr>\n",
       "                        <th id=\"T_0ea3967a_034c_11ec_b7d2_5d1d16c68f63level0_row33\" class=\"row_heading level0 row33\" rowspan=2>priv-house-serv</th>\n",
       "                        <th id=\"T_0ea3967a_034c_11ec_b7d2_5d1d16c68f63level1_row33\" class=\"row_heading level1 row33\" >College</th>\n",
       "                        <td id=\"T_0ea3967a_034c_11ec_b7d2_5d1d16c68f63row33_col0\" class=\"data row33 col0\" >66210.000000</td>\n",
       "            </tr>\n",
       "            <tr>\n",
       "                                <th id=\"T_0ea3967a_034c_11ec_b7d2_5d1d16c68f63level1_row34\" class=\"row_heading level1 row34\" >Associate</th>\n",
       "                        <td id=\"T_0ea3967a_034c_11ec_b7d2_5d1d16c68f63row34_col0\" class=\"data row34 col0\" >65540.000000</td>\n",
       "            </tr>\n",
       "            <tr>\n",
       "                        <th id=\"T_0ea3967a_034c_11ec_b7d2_5d1d16c68f63level0_row35\" class=\"row_heading level0 row35\" >protective-serv</th>\n",
       "                        <th id=\"T_0ea3967a_034c_11ec_b7d2_5d1d16c68f63level1_row35\" class=\"row_heading level1 row35\" >Associate</th>\n",
       "                        <td id=\"T_0ea3967a_034c_11ec_b7d2_5d1d16c68f63row35_col0\" class=\"data row35 col0\" >65127.500000</td>\n",
       "            </tr>\n",
       "            <tr>\n",
       "                        <th id=\"T_0ea3967a_034c_11ec_b7d2_5d1d16c68f63level0_row36\" class=\"row_heading level0 row36\" >farming-fishing</th>\n",
       "                        <th id=\"T_0ea3967a_034c_11ec_b7d2_5d1d16c68f63level1_row36\" class=\"row_heading level1 row36\" >Masters</th>\n",
       "                        <td id=\"T_0ea3967a_034c_11ec_b7d2_5d1d16c68f63row36_col0\" class=\"data row36 col0\" >64890.000000</td>\n",
       "            </tr>\n",
       "            <tr>\n",
       "                        <th id=\"T_0ea3967a_034c_11ec_b7d2_5d1d16c68f63level0_row37\" class=\"row_heading level0 row37\" >exec-managerial</th>\n",
       "                        <th id=\"T_0ea3967a_034c_11ec_b7d2_5d1d16c68f63level1_row37\" class=\"row_heading level1 row37\" >Masters</th>\n",
       "                        <td id=\"T_0ea3967a_034c_11ec_b7d2_5d1d16c68f63row37_col0\" class=\"data row37 col0\" >64533.333333</td>\n",
       "            </tr>\n",
       "            <tr>\n",
       "                        <th id=\"T_0ea3967a_034c_11ec_b7d2_5d1d16c68f63level0_row38\" class=\"row_heading level0 row38\" >handlers-cleaners</th>\n",
       "                        <th id=\"T_0ea3967a_034c_11ec_b7d2_5d1d16c68f63level1_row38\" class=\"row_heading level1 row38\" >College</th>\n",
       "                        <td id=\"T_0ea3967a_034c_11ec_b7d2_5d1d16c68f63row38_col0\" class=\"data row38 col0\" >64195.000000</td>\n",
       "            </tr>\n",
       "            <tr>\n",
       "                        <th id=\"T_0ea3967a_034c_11ec_b7d2_5d1d16c68f63level0_row39\" class=\"row_heading level0 row39\" >tech-support</th>\n",
       "                        <th id=\"T_0ea3967a_034c_11ec_b7d2_5d1d16c68f63level1_row39\" class=\"row_heading level1 row39\" >Masters</th>\n",
       "                        <td id=\"T_0ea3967a_034c_11ec_b7d2_5d1d16c68f63row39_col0\" class=\"data row39 col0\" >64000.000000</td>\n",
       "            </tr>\n",
       "            <tr>\n",
       "                        <th id=\"T_0ea3967a_034c_11ec_b7d2_5d1d16c68f63level0_row40\" class=\"row_heading level0 row40\" >handlers-cleaners</th>\n",
       "                        <th id=\"T_0ea3967a_034c_11ec_b7d2_5d1d16c68f63level1_row40\" class=\"row_heading level1 row40\" >PhD</th>\n",
       "                        <td id=\"T_0ea3967a_034c_11ec_b7d2_5d1d16c68f63row40_col0\" class=\"data row40 col0\" >63300.000000</td>\n",
       "            </tr>\n",
       "            <tr>\n",
       "                        <th id=\"T_0ea3967a_034c_11ec_b7d2_5d1d16c68f63level0_row41\" class=\"row_heading level0 row41\" >prof-specialty</th>\n",
       "                        <th id=\"T_0ea3967a_034c_11ec_b7d2_5d1d16c68f63level1_row41\" class=\"row_heading level1 row41\" >Associate</th>\n",
       "                        <td id=\"T_0ea3967a_034c_11ec_b7d2_5d1d16c68f63row41_col0\" class=\"data row41 col0\" >63245.000000</td>\n",
       "            </tr>\n",
       "            <tr>\n",
       "                        <th id=\"T_0ea3967a_034c_11ec_b7d2_5d1d16c68f63level0_row42\" class=\"row_heading level0 row42\" >sales</th>\n",
       "                        <th id=\"T_0ea3967a_034c_11ec_b7d2_5d1d16c68f63level1_row42\" class=\"row_heading level1 row42\" >Masters</th>\n",
       "                        <td id=\"T_0ea3967a_034c_11ec_b7d2_5d1d16c68f63row42_col0\" class=\"data row42 col0\" >63142.500000</td>\n",
       "            </tr>\n",
       "            <tr>\n",
       "                        <th id=\"T_0ea3967a_034c_11ec_b7d2_5d1d16c68f63level0_row43\" class=\"row_heading level0 row43\" >transport-moving</th>\n",
       "                        <th id=\"T_0ea3967a_034c_11ec_b7d2_5d1d16c68f63level1_row43\" class=\"row_heading level1 row43\" >MD</th>\n",
       "                        <td id=\"T_0ea3967a_034c_11ec_b7d2_5d1d16c68f63row43_col0\" class=\"data row43 col0\" >63120.000000</td>\n",
       "            </tr>\n",
       "            <tr>\n",
       "                        <th id=\"T_0ea3967a_034c_11ec_b7d2_5d1d16c68f63level0_row44\" class=\"row_heading level0 row44\" >other-service</th>\n",
       "                        <th id=\"T_0ea3967a_034c_11ec_b7d2_5d1d16c68f63level1_row44\" class=\"row_heading level1 row44\" >Associate</th>\n",
       "                        <td id=\"T_0ea3967a_034c_11ec_b7d2_5d1d16c68f63row44_col0\" class=\"data row44 col0\" >62700.000000</td>\n",
       "            </tr>\n",
       "            <tr>\n",
       "                        <th id=\"T_0ea3967a_034c_11ec_b7d2_5d1d16c68f63level0_row45\" class=\"row_heading level0 row45\" rowspan=2>farming-fishing</th>\n",
       "                        <th id=\"T_0ea3967a_034c_11ec_b7d2_5d1d16c68f63level1_row45\" class=\"row_heading level1 row45\" >High School</th>\n",
       "                        <td id=\"T_0ea3967a_034c_11ec_b7d2_5d1d16c68f63row45_col0\" class=\"data row45 col0\" >61706.666667</td>\n",
       "            </tr>\n",
       "            <tr>\n",
       "                                <th id=\"T_0ea3967a_034c_11ec_b7d2_5d1d16c68f63level1_row46\" class=\"row_heading level1 row46\" >JD</th>\n",
       "                        <td id=\"T_0ea3967a_034c_11ec_b7d2_5d1d16c68f63row46_col0\" class=\"data row46 col0\" >60426.000000</td>\n",
       "            </tr>\n",
       "            <tr>\n",
       "                        <th id=\"T_0ea3967a_034c_11ec_b7d2_5d1d16c68f63level0_row47\" class=\"row_heading level0 row47\" >exec-managerial</th>\n",
       "                        <th id=\"T_0ea3967a_034c_11ec_b7d2_5d1d16c68f63level1_row47\" class=\"row_heading level1 row47\" >High School</th>\n",
       "                        <td id=\"T_0ea3967a_034c_11ec_b7d2_5d1d16c68f63row47_col0\" class=\"data row47 col0\" >59628.333333</td>\n",
       "            </tr>\n",
       "            <tr>\n",
       "                        <th id=\"T_0ea3967a_034c_11ec_b7d2_5d1d16c68f63level0_row48\" class=\"row_heading level0 row48\" >adm-clerical</th>\n",
       "                        <th id=\"T_0ea3967a_034c_11ec_b7d2_5d1d16c68f63level1_row48\" class=\"row_heading level1 row48\" >JD</th>\n",
       "                        <td id=\"T_0ea3967a_034c_11ec_b7d2_5d1d16c68f63row48_col0\" class=\"data row48 col0\" >59400.000000</td>\n",
       "            </tr>\n",
       "            <tr>\n",
       "                        <th id=\"T_0ea3967a_034c_11ec_b7d2_5d1d16c68f63level0_row49\" class=\"row_heading level0 row49\" >tech-support</th>\n",
       "                        <th id=\"T_0ea3967a_034c_11ec_b7d2_5d1d16c68f63level1_row49\" class=\"row_heading level1 row49\" >MD</th>\n",
       "                        <td id=\"T_0ea3967a_034c_11ec_b7d2_5d1d16c68f63row49_col0\" class=\"data row49 col0\" >59333.333333</td>\n",
       "            </tr>\n",
       "            <tr>\n",
       "                        <th id=\"T_0ea3967a_034c_11ec_b7d2_5d1d16c68f63level0_row50\" class=\"row_heading level0 row50\" >other-service</th>\n",
       "                        <th id=\"T_0ea3967a_034c_11ec_b7d2_5d1d16c68f63level1_row50\" class=\"row_heading level1 row50\" >PhD</th>\n",
       "                        <td id=\"T_0ea3967a_034c_11ec_b7d2_5d1d16c68f63row50_col0\" class=\"data row50 col0\" >59000.000000</td>\n",
       "            </tr>\n",
       "            <tr>\n",
       "                        <th id=\"T_0ea3967a_034c_11ec_b7d2_5d1d16c68f63level0_row51\" class=\"row_heading level0 row51\" >machine-op-inspct</th>\n",
       "                        <th id=\"T_0ea3967a_034c_11ec_b7d2_5d1d16c68f63level1_row51\" class=\"row_heading level1 row51\" >PhD</th>\n",
       "                        <td id=\"T_0ea3967a_034c_11ec_b7d2_5d1d16c68f63row51_col0\" class=\"data row51 col0\" >58942.000000</td>\n",
       "            </tr>\n",
       "            <tr>\n",
       "                        <th id=\"T_0ea3967a_034c_11ec_b7d2_5d1d16c68f63level0_row52\" class=\"row_heading level0 row52\" >adm-clerical</th>\n",
       "                        <th id=\"T_0ea3967a_034c_11ec_b7d2_5d1d16c68f63level1_row52\" class=\"row_heading level1 row52\" >Associate</th>\n",
       "                        <td id=\"T_0ea3967a_034c_11ec_b7d2_5d1d16c68f63row52_col0\" class=\"data row52 col0\" >58790.000000</td>\n",
       "            </tr>\n",
       "            <tr>\n",
       "                        <th id=\"T_0ea3967a_034c_11ec_b7d2_5d1d16c68f63level0_row53\" class=\"row_heading level0 row53\" >transport-moving</th>\n",
       "                        <th id=\"T_0ea3967a_034c_11ec_b7d2_5d1d16c68f63level1_row53\" class=\"row_heading level1 row53\" >High School</th>\n",
       "                        <td id=\"T_0ea3967a_034c_11ec_b7d2_5d1d16c68f63row53_col0\" class=\"data row53 col0\" >58677.500000</td>\n",
       "            </tr>\n",
       "            <tr>\n",
       "                        <th id=\"T_0ea3967a_034c_11ec_b7d2_5d1d16c68f63level0_row54\" class=\"row_heading level0 row54\" >farming-fishing</th>\n",
       "                        <th id=\"T_0ea3967a_034c_11ec_b7d2_5d1d16c68f63level1_row54\" class=\"row_heading level1 row54\" >College</th>\n",
       "                        <td id=\"T_0ea3967a_034c_11ec_b7d2_5d1d16c68f63row54_col0\" class=\"data row54 col0\" >58506.666667</td>\n",
       "            </tr>\n",
       "            <tr>\n",
       "                        <th id=\"T_0ea3967a_034c_11ec_b7d2_5d1d16c68f63level0_row55\" class=\"row_heading level0 row55\" >machine-op-inspct</th>\n",
       "                        <th id=\"T_0ea3967a_034c_11ec_b7d2_5d1d16c68f63level1_row55\" class=\"row_heading level1 row55\" >College</th>\n",
       "                        <td id=\"T_0ea3967a_034c_11ec_b7d2_5d1d16c68f63row55_col0\" class=\"data row55 col0\" >58400.000000</td>\n",
       "            </tr>\n",
       "            <tr>\n",
       "                        <th id=\"T_0ea3967a_034c_11ec_b7d2_5d1d16c68f63level0_row56\" class=\"row_heading level0 row56\" >sales</th>\n",
       "                        <th id=\"T_0ea3967a_034c_11ec_b7d2_5d1d16c68f63level1_row56\" class=\"row_heading level1 row56\" >JD</th>\n",
       "                        <td id=\"T_0ea3967a_034c_11ec_b7d2_5d1d16c68f63row56_col0\" class=\"data row56 col0\" >58266.666667</td>\n",
       "            </tr>\n",
       "            <tr>\n",
       "                        <th id=\"T_0ea3967a_034c_11ec_b7d2_5d1d16c68f63level0_row57\" class=\"row_heading level0 row57\" >armed-forces</th>\n",
       "                        <th id=\"T_0ea3967a_034c_11ec_b7d2_5d1d16c68f63level1_row57\" class=\"row_heading level1 row57\" >PhD</th>\n",
       "                        <td id=\"T_0ea3967a_034c_11ec_b7d2_5d1d16c68f63row57_col0\" class=\"data row57 col0\" >57385.000000</td>\n",
       "            </tr>\n",
       "            <tr>\n",
       "                        <th id=\"T_0ea3967a_034c_11ec_b7d2_5d1d16c68f63level0_row58\" class=\"row_heading level0 row58\" >exec-managerial</th>\n",
       "                        <th id=\"T_0ea3967a_034c_11ec_b7d2_5d1d16c68f63level1_row58\" class=\"row_heading level1 row58\" >PhD</th>\n",
       "                        <td id=\"T_0ea3967a_034c_11ec_b7d2_5d1d16c68f63row58_col0\" class=\"data row58 col0\" >56450.000000</td>\n",
       "            </tr>\n",
       "            <tr>\n",
       "                        <th id=\"T_0ea3967a_034c_11ec_b7d2_5d1d16c68f63level0_row59\" class=\"row_heading level0 row59\" >other-service</th>\n",
       "                        <th id=\"T_0ea3967a_034c_11ec_b7d2_5d1d16c68f63level1_row59\" class=\"row_heading level1 row59\" >College</th>\n",
       "                        <td id=\"T_0ea3967a_034c_11ec_b7d2_5d1d16c68f63row59_col0\" class=\"data row59 col0\" >56333.333333</td>\n",
       "            </tr>\n",
       "            <tr>\n",
       "                        <th id=\"T_0ea3967a_034c_11ec_b7d2_5d1d16c68f63level0_row60\" class=\"row_heading level0 row60\" >exec-managerial</th>\n",
       "                        <th id=\"T_0ea3967a_034c_11ec_b7d2_5d1d16c68f63level1_row60\" class=\"row_heading level1 row60\" >Associate</th>\n",
       "                        <td id=\"T_0ea3967a_034c_11ec_b7d2_5d1d16c68f63row60_col0\" class=\"data row60 col0\" >56260.000000</td>\n",
       "            </tr>\n",
       "            <tr>\n",
       "                        <th id=\"T_0ea3967a_034c_11ec_b7d2_5d1d16c68f63level0_row61\" class=\"row_heading level0 row61\" >sales</th>\n",
       "                        <th id=\"T_0ea3967a_034c_11ec_b7d2_5d1d16c68f63level1_row61\" class=\"row_heading level1 row61\" >College</th>\n",
       "                        <td id=\"T_0ea3967a_034c_11ec_b7d2_5d1d16c68f63row61_col0\" class=\"data row61 col0\" >56100.000000</td>\n",
       "            </tr>\n",
       "            <tr>\n",
       "                        <th id=\"T_0ea3967a_034c_11ec_b7d2_5d1d16c68f63level0_row62\" class=\"row_heading level0 row62\" >prof-specialty</th>\n",
       "                        <th id=\"T_0ea3967a_034c_11ec_b7d2_5d1d16c68f63level1_row62\" class=\"row_heading level1 row62\" >MD</th>\n",
       "                        <td id=\"T_0ea3967a_034c_11ec_b7d2_5d1d16c68f63row62_col0\" class=\"data row62 col0\" >55676.666667</td>\n",
       "            </tr>\n",
       "            <tr>\n",
       "                        <th id=\"T_0ea3967a_034c_11ec_b7d2_5d1d16c68f63level0_row63\" class=\"row_heading level0 row63\" >protective-serv</th>\n",
       "                        <th id=\"T_0ea3967a_034c_11ec_b7d2_5d1d16c68f63level1_row63\" class=\"row_heading level1 row63\" >PhD</th>\n",
       "                        <td id=\"T_0ea3967a_034c_11ec_b7d2_5d1d16c68f63row63_col0\" class=\"data row63 col0\" >55660.000000</td>\n",
       "            </tr>\n",
       "            <tr>\n",
       "                        <th id=\"T_0ea3967a_034c_11ec_b7d2_5d1d16c68f63level0_row64\" class=\"row_heading level0 row64\" >tech-support</th>\n",
       "                        <th id=\"T_0ea3967a_034c_11ec_b7d2_5d1d16c68f63level1_row64\" class=\"row_heading level1 row64\" >PhD</th>\n",
       "                        <td id=\"T_0ea3967a_034c_11ec_b7d2_5d1d16c68f63row64_col0\" class=\"data row64 col0\" >55215.000000</td>\n",
       "            </tr>\n",
       "            <tr>\n",
       "                        <th id=\"T_0ea3967a_034c_11ec_b7d2_5d1d16c68f63level0_row65\" class=\"row_heading level0 row65\" >priv-house-serv</th>\n",
       "                        <th id=\"T_0ea3967a_034c_11ec_b7d2_5d1d16c68f63level1_row65\" class=\"row_heading level1 row65\" >Masters</th>\n",
       "                        <td id=\"T_0ea3967a_034c_11ec_b7d2_5d1d16c68f63row65_col0\" class=\"data row65 col0\" >55170.000000</td>\n",
       "            </tr>\n",
       "            <tr>\n",
       "                        <th id=\"T_0ea3967a_034c_11ec_b7d2_5d1d16c68f63level0_row66\" class=\"row_heading level0 row66\" >other-service</th>\n",
       "                        <th id=\"T_0ea3967a_034c_11ec_b7d2_5d1d16c68f63level1_row66\" class=\"row_heading level1 row66\" >Masters</th>\n",
       "                        <td id=\"T_0ea3967a_034c_11ec_b7d2_5d1d16c68f63row66_col0\" class=\"data row66 col0\" >54840.000000</td>\n",
       "            </tr>\n",
       "            <tr>\n",
       "                        <th id=\"T_0ea3967a_034c_11ec_b7d2_5d1d16c68f63level0_row67\" class=\"row_heading level0 row67\" >prof-specialty</th>\n",
       "                        <th id=\"T_0ea3967a_034c_11ec_b7d2_5d1d16c68f63level1_row67\" class=\"row_heading level1 row67\" >College</th>\n",
       "                        <td id=\"T_0ea3967a_034c_11ec_b7d2_5d1d16c68f63row67_col0\" class=\"data row67 col0\" >54803.333333</td>\n",
       "            </tr>\n",
       "            <tr>\n",
       "                        <th id=\"T_0ea3967a_034c_11ec_b7d2_5d1d16c68f63level0_row68\" class=\"row_heading level0 row68\" >handlers-cleaners</th>\n",
       "                        <th id=\"T_0ea3967a_034c_11ec_b7d2_5d1d16c68f63level1_row68\" class=\"row_heading level1 row68\" >JD</th>\n",
       "                        <td id=\"T_0ea3967a_034c_11ec_b7d2_5d1d16c68f63row68_col0\" class=\"data row68 col0\" >54390.000000</td>\n",
       "            </tr>\n",
       "            <tr>\n",
       "                        <th id=\"T_0ea3967a_034c_11ec_b7d2_5d1d16c68f63level0_row69\" class=\"row_heading level0 row69\" >transport-moving</th>\n",
       "                        <th id=\"T_0ea3967a_034c_11ec_b7d2_5d1d16c68f63level1_row69\" class=\"row_heading level1 row69\" >College</th>\n",
       "                        <td id=\"T_0ea3967a_034c_11ec_b7d2_5d1d16c68f63row69_col0\" class=\"data row69 col0\" >53730.000000</td>\n",
       "            </tr>\n",
       "            <tr>\n",
       "                        <th id=\"T_0ea3967a_034c_11ec_b7d2_5d1d16c68f63level0_row70\" class=\"row_heading level0 row70\" >machine-op-inspct</th>\n",
       "                        <th id=\"T_0ea3967a_034c_11ec_b7d2_5d1d16c68f63level1_row70\" class=\"row_heading level1 row70\" >JD</th>\n",
       "                        <td id=\"T_0ea3967a_034c_11ec_b7d2_5d1d16c68f63row70_col0\" class=\"data row70 col0\" >53280.000000</td>\n",
       "            </tr>\n",
       "            <tr>\n",
       "                        <th id=\"T_0ea3967a_034c_11ec_b7d2_5d1d16c68f63level0_row71\" class=\"row_heading level0 row71\" >farming-fishing</th>\n",
       "                        <th id=\"T_0ea3967a_034c_11ec_b7d2_5d1d16c68f63level1_row71\" class=\"row_heading level1 row71\" >PhD</th>\n",
       "                        <td id=\"T_0ea3967a_034c_11ec_b7d2_5d1d16c68f63row71_col0\" class=\"data row71 col0\" >52800.000000</td>\n",
       "            </tr>\n",
       "            <tr>\n",
       "                        <th id=\"T_0ea3967a_034c_11ec_b7d2_5d1d16c68f63level0_row72\" class=\"row_heading level0 row72\" >exec-managerial</th>\n",
       "                        <th id=\"T_0ea3967a_034c_11ec_b7d2_5d1d16c68f63level1_row72\" class=\"row_heading level1 row72\" >College</th>\n",
       "                        <td id=\"T_0ea3967a_034c_11ec_b7d2_5d1d16c68f63row72_col0\" class=\"data row72 col0\" >51234.000000</td>\n",
       "            </tr>\n",
       "            <tr>\n",
       "                        <th id=\"T_0ea3967a_034c_11ec_b7d2_5d1d16c68f63level0_row73\" class=\"row_heading level0 row73\" >machine-op-inspct</th>\n",
       "                        <th id=\"T_0ea3967a_034c_11ec_b7d2_5d1d16c68f63level1_row73\" class=\"row_heading level1 row73\" >Associate</th>\n",
       "                        <td id=\"T_0ea3967a_034c_11ec_b7d2_5d1d16c68f63row73_col0\" class=\"data row73 col0\" >49072.500000</td>\n",
       "            </tr>\n",
       "            <tr>\n",
       "                        <th id=\"T_0ea3967a_034c_11ec_b7d2_5d1d16c68f63level0_row74\" class=\"row_heading level0 row74\" >handlers-cleaners</th>\n",
       "                        <th id=\"T_0ea3967a_034c_11ec_b7d2_5d1d16c68f63level1_row74\" class=\"row_heading level1 row74\" >High School</th>\n",
       "                        <td id=\"T_0ea3967a_034c_11ec_b7d2_5d1d16c68f63row74_col0\" class=\"data row74 col0\" >47700.000000</td>\n",
       "            </tr>\n",
       "            <tr>\n",
       "                        <th id=\"T_0ea3967a_034c_11ec_b7d2_5d1d16c68f63level0_row75\" class=\"row_heading level0 row75\" >farming-fishing</th>\n",
       "                        <th id=\"T_0ea3967a_034c_11ec_b7d2_5d1d16c68f63level1_row75\" class=\"row_heading level1 row75\" >MD</th>\n",
       "                        <td id=\"T_0ea3967a_034c_11ec_b7d2_5d1d16c68f63row75_col0\" class=\"data row75 col0\" >47233.333333</td>\n",
       "            </tr>\n",
       "            <tr>\n",
       "                        <th id=\"T_0ea3967a_034c_11ec_b7d2_5d1d16c68f63level0_row76\" class=\"row_heading level0 row76\" >exec-managerial</th>\n",
       "                        <th id=\"T_0ea3967a_034c_11ec_b7d2_5d1d16c68f63level1_row76\" class=\"row_heading level1 row76\" >JD</th>\n",
       "                        <td id=\"T_0ea3967a_034c_11ec_b7d2_5d1d16c68f63row76_col0\" class=\"data row76 col0\" >47010.000000</td>\n",
       "            </tr>\n",
       "            <tr>\n",
       "                        <th id=\"T_0ea3967a_034c_11ec_b7d2_5d1d16c68f63level0_row77\" class=\"row_heading level0 row77\" >armed-forces</th>\n",
       "                        <th id=\"T_0ea3967a_034c_11ec_b7d2_5d1d16c68f63level1_row77\" class=\"row_heading level1 row77\" >MD</th>\n",
       "                        <td id=\"T_0ea3967a_034c_11ec_b7d2_5d1d16c68f63row77_col0\" class=\"data row77 col0\" >46850.000000</td>\n",
       "            </tr>\n",
       "            <tr>\n",
       "                        <th id=\"T_0ea3967a_034c_11ec_b7d2_5d1d16c68f63level0_row78\" class=\"row_heading level0 row78\" >tech-support</th>\n",
       "                        <th id=\"T_0ea3967a_034c_11ec_b7d2_5d1d16c68f63level1_row78\" class=\"row_heading level1 row78\" >College</th>\n",
       "                        <td id=\"T_0ea3967a_034c_11ec_b7d2_5d1d16c68f63row78_col0\" class=\"data row78 col0\" >45540.000000</td>\n",
       "            </tr>\n",
       "            <tr>\n",
       "                        <th id=\"T_0ea3967a_034c_11ec_b7d2_5d1d16c68f63level0_row79\" class=\"row_heading level0 row79\" >craft-repair</th>\n",
       "                        <th id=\"T_0ea3967a_034c_11ec_b7d2_5d1d16c68f63level1_row79\" class=\"row_heading level1 row79\" >College</th>\n",
       "                        <td id=\"T_0ea3967a_034c_11ec_b7d2_5d1d16c68f63row79_col0\" class=\"data row79 col0\" >44880.000000</td>\n",
       "            </tr>\n",
       "            <tr>\n",
       "                        <th id=\"T_0ea3967a_034c_11ec_b7d2_5d1d16c68f63level0_row80\" class=\"row_heading level0 row80\" >armed-forces</th>\n",
       "                        <th id=\"T_0ea3967a_034c_11ec_b7d2_5d1d16c68f63level1_row80\" class=\"row_heading level1 row80\" >JD</th>\n",
       "                        <td id=\"T_0ea3967a_034c_11ec_b7d2_5d1d16c68f63row80_col0\" class=\"data row80 col0\" >42300.000000</td>\n",
       "            </tr>\n",
       "            <tr>\n",
       "                        <th id=\"T_0ea3967a_034c_11ec_b7d2_5d1d16c68f63level0_row81\" class=\"row_heading level0 row81\" >sales</th>\n",
       "                        <th id=\"T_0ea3967a_034c_11ec_b7d2_5d1d16c68f63level1_row81\" class=\"row_heading level1 row81\" >Associate</th>\n",
       "                        <td id=\"T_0ea3967a_034c_11ec_b7d2_5d1d16c68f63row81_col0\" class=\"data row81 col0\" >39990.000000</td>\n",
       "            </tr>\n",
       "            <tr>\n",
       "                        <th id=\"T_0ea3967a_034c_11ec_b7d2_5d1d16c68f63level0_row82\" class=\"row_heading level0 row82\" >priv-house-serv</th>\n",
       "                        <th id=\"T_0ea3967a_034c_11ec_b7d2_5d1d16c68f63level1_row82\" class=\"row_heading level1 row82\" >JD</th>\n",
       "                        <td id=\"T_0ea3967a_034c_11ec_b7d2_5d1d16c68f63row82_col0\" class=\"data row82 col0\" >39680.000000</td>\n",
       "            </tr>\n",
       "            <tr>\n",
       "                        <th id=\"T_0ea3967a_034c_11ec_b7d2_5d1d16c68f63level0_row83\" class=\"row_heading level0 row83\" >craft-repair</th>\n",
       "                        <th id=\"T_0ea3967a_034c_11ec_b7d2_5d1d16c68f63level1_row83\" class=\"row_heading level1 row83\" >Associate</th>\n",
       "                        <td id=\"T_0ea3967a_034c_11ec_b7d2_5d1d16c68f63row83_col0\" class=\"data row83 col0\" >38005.000000</td>\n",
       "            </tr>\n",
       "            <tr>\n",
       "                        <th id=\"T_0ea3967a_034c_11ec_b7d2_5d1d16c68f63level0_row84\" class=\"row_heading level0 row84\" >machine-op-inspct</th>\n",
       "                        <th id=\"T_0ea3967a_034c_11ec_b7d2_5d1d16c68f63level1_row84\" class=\"row_heading level1 row84\" >MD</th>\n",
       "                        <td id=\"T_0ea3967a_034c_11ec_b7d2_5d1d16c68f63row84_col0\" class=\"data row84 col0\" >32332.500000</td>\n",
       "            </tr>\n",
       "            <tr>\n",
       "                        <th id=\"T_0ea3967a_034c_11ec_b7d2_5d1d16c68f63level0_row85\" class=\"row_heading level0 row85\" >armed-forces</th>\n",
       "                        <th id=\"T_0ea3967a_034c_11ec_b7d2_5d1d16c68f63level1_row85\" class=\"row_heading level1 row85\" >Masters</th>\n",
       "                        <td id=\"T_0ea3967a_034c_11ec_b7d2_5d1d16c68f63row85_col0\" class=\"data row85 col0\" >31230.000000</td>\n",
       "            </tr>\n",
       "            <tr>\n",
       "                        <th id=\"T_0ea3967a_034c_11ec_b7d2_5d1d16c68f63level0_row86\" class=\"row_heading level0 row86\" >craft-repair</th>\n",
       "                        <th id=\"T_0ea3967a_034c_11ec_b7d2_5d1d16c68f63level1_row86\" class=\"row_heading level1 row86\" >High School</th>\n",
       "                        <td id=\"T_0ea3967a_034c_11ec_b7d2_5d1d16c68f63row86_col0\" class=\"data row86 col0\" >30528.000000</td>\n",
       "            </tr>\n",
       "            <tr>\n",
       "                        <th id=\"T_0ea3967a_034c_11ec_b7d2_5d1d16c68f63level0_row87\" class=\"row_heading level0 row87\" >priv-house-serv</th>\n",
       "                        <th id=\"T_0ea3967a_034c_11ec_b7d2_5d1d16c68f63level1_row87\" class=\"row_heading level1 row87\" >PhD</th>\n",
       "                        <td id=\"T_0ea3967a_034c_11ec_b7d2_5d1d16c68f63row87_col0\" class=\"data row87 col0\" >28600.000000</td>\n",
       "            </tr>\n",
       "            <tr>\n",
       "                        <th id=\"T_0ea3967a_034c_11ec_b7d2_5d1d16c68f63level0_row88\" class=\"row_heading level0 row88\" >adm-clerical</th>\n",
       "                        <th id=\"T_0ea3967a_034c_11ec_b7d2_5d1d16c68f63level1_row88\" class=\"row_heading level1 row88\" >High School</th>\n",
       "                        <td id=\"T_0ea3967a_034c_11ec_b7d2_5d1d16c68f63row88_col0\" class=\"data row88 col0\" >24693.333333</td>\n",
       "            </tr>\n",
       "            <tr>\n",
       "                        <th id=\"T_0ea3967a_034c_11ec_b7d2_5d1d16c68f63level0_row89\" class=\"row_heading level0 row89\" >handlers-cleaners</th>\n",
       "                        <th id=\"T_0ea3967a_034c_11ec_b7d2_5d1d16c68f63level1_row89\" class=\"row_heading level1 row89\" >Masters</th>\n",
       "                        <td id=\"T_0ea3967a_034c_11ec_b7d2_5d1d16c68f63row89_col0\" class=\"data row89 col0\" >4620.000000</td>\n",
       "            </tr>\n",
       "            <tr>\n",
       "                        <th id=\"T_0ea3967a_034c_11ec_b7d2_5d1d16c68f63level0_row90\" class=\"row_heading level0 row90\" >adm-clerical</th>\n",
       "                        <th id=\"T_0ea3967a_034c_11ec_b7d2_5d1d16c68f63level1_row90\" class=\"row_heading level1 row90\" >Masters</th>\n",
       "                        <td id=\"T_0ea3967a_034c_11ec_b7d2_5d1d16c68f63row90_col0\" class=\"data row90 col0\" >3600.000000</td>\n",
       "            </tr>\n",
       "    </tbody></table>"
      ],
      "text/plain": [
       "<pandas.io.formats.style.Styler at 0x7fc4fe04e828>"
      ]
     },
     "execution_count": 24,
     "metadata": {},
     "output_type": "execute_result"
    }
   ],
   "source": [
    "#Looking at below claims\n",
    "a_claims=pd.pivot_table(a,values='total_claim_amount',index=['insured_occupation','insured_education_level']).sort_values('total_claim_amount',ascending=False)\n",
    "\n",
    "cm = sns.light_palette(\"blue\", as_cmap=True)\n",
    "a_claims.style.background_gradient(cmap=cm)"
   ]
  },
  {
   "cell_type": "code",
   "execution_count": 25,
   "metadata": {},
   "outputs": [
    {
     "name": "stderr",
     "output_type": "stream",
     "text": [
      "/home/soma/snap/jupyter/common/lib/python3.7/site-packages/seaborn/_decorators.py:43: FutureWarning: Pass the following variable as a keyword arg: x. From version 0.12, the only valid positional argument will be `data`, and passing other arguments without an explicit keyword will result in an error or misinterpretation.\n",
      "  FutureWarning\n"
     ]
    },
    {
     "data": {
      "image/png": "[encoded data removed]",
      "text/plain": [
       "<Figure size 1152x432 with 1 Axes>"
      ]
     },
     "metadata": {},
     "output_type": "display_data"
    }
   ],
   "source": [
    "plt.figure(figsize=(16,6))\n",
    "plt.title(\"Count plot for Fraud transaction 'Y' wrt Hobbies\",fontsize=20)\n",
    "sns.countplot('insured_hobbies',data=a)\n",
    "plt.xticks(rotation=45)\n",
    "plt.grid(True)\n",
    "plt.tight_layout()\n",
    "plt.show()"
   ]
  },
  {
   "cell_type": "code",
   "execution_count": 26,
   "metadata": {},
   "outputs": [
    {
     "data": {
      "image/png": "[encoded data removed]",
      "text/plain": [
       "<Figure size 1008x360 with 1 Axes>"
      ]
     },
     "metadata": {},
     "output_type": "display_data"
    }
   ],
   "source": [
    "plt.figure(figsize=(14,5))\n",
    "plt.title(\"Bar plot for Fraud transaction wrt Gender\",fontsize=20)\n",
    "sns.barplot(x='insured_sex',y='total_claim_amount',hue='fraud_reported',data=df)\n",
    "plt.xticks(rotation=45)\n",
    "plt.grid(True)\n",
    "plt.tight_layout()\n",
    "plt.show()"
   ]
  },
  {
   "cell_type": "code",
   "execution_count": 27,
   "metadata": {},
   "outputs": [
    {
     "data": {
      "text/plain": [
       "other-relative    52\n",
       "not-in-family     45\n",
       "wife              42\n",
       "own-child         39\n",
       "husband           35\n",
       "unmarried         34\n",
       "Name: insured_relationship, dtype: int64"
      ]
     },
     "execution_count": 27,
     "metadata": {},
     "output_type": "execute_result"
    }
   ],
   "source": [
    "a['insured_relationship'].value_counts()"
   ]
  },
  {
   "cell_type": "code",
   "execution_count": 28,
   "metadata": {},
   "outputs": [],
   "source": [
    "profit=df['capital-gains']-df['capital-loss']\n",
    "df1=df\n",
    "df1['profit']=profit"
   ]
  },
  {
   "cell_type": "code",
   "execution_count": 29,
   "metadata": {},
   "outputs": [
    {
     "data": {
      "text/plain": [
       "Index(['months_as_customer', 'age', 'policy_number', 'policy_bind_date',\n",
       "       'policy_state', 'policy_csl', 'policy_deductable',\n",
       "       'policy_annual_premium', 'umbrella_limit', 'insured_zip', 'insured_sex',\n",
       "       'insured_education_level', 'insured_occupation', 'insured_hobbies',\n",
       "       'insured_relationship', 'capital-gains', 'capital-loss',\n",
       "       'incident_date', 'incident_type', 'collision_type', 'incident_severity',\n",
       "       'authorities_contacted', 'incident_state', 'incident_city',\n",
       "       'incident_location', 'incident_hour_of_the_day',\n",
       "       'number_of_vehicles_involved', 'property_damage', 'bodily_injuries',\n",
       "       'witnesses', 'police_report_available', 'total_claim_amount',\n",
       "       'injury_claim', 'property_claim', 'vehicle_claim', 'auto_make',\n",
       "       'auto_model', 'auto_year', 'fraud_reported', '_c39', 'profit'],\n",
       "      dtype='object')"
      ]
     },
     "execution_count": 29,
     "metadata": {},
     "output_type": "execute_result"
    }
   ],
   "source": [
    "df1.columns"
   ]
  },
  {
   "cell_type": "code",
   "execution_count": 30,
   "metadata": {},
   "outputs": [
    {
     "data": {
      "text/html": [
       "<div>\n",
       "<style scoped>\n",
       "    .dataframe tbody tr th:only-of-type {\n",
       "        vertical-align: middle;\n",
       "    }\n",
       "\n",
       "    .dataframe tbody tr th {\n",
       "        vertical-align: top;\n",
       "    }\n",
       "\n",
       "    .dataframe thead th {\n",
       "        text-align: right;\n",
       "    }\n",
       "</style>\n",
       "<table border=\"1\" class=\"dataframe\">\n",
       "  <thead>\n",
       "    <tr style=\"text-align: right;\">\n",
       "      <th></th>\n",
       "      <th>policy_number</th>\n",
       "      <th>profit</th>\n",
       "    </tr>\n",
       "  </thead>\n",
       "  <tbody>\n",
       "    <tr>\n",
       "      <th>807</th>\n",
       "      <td>250833</td>\n",
       "      <td>192000</td>\n",
       "    </tr>\n",
       "    <tr>\n",
       "      <th>533</th>\n",
       "      <td>840806</td>\n",
       "      <td>164100</td>\n",
       "    </tr>\n",
       "    <tr>\n",
       "      <th>59</th>\n",
       "      <td>485372</td>\n",
       "      <td>153300</td>\n",
       "    </tr>\n",
       "    <tr>\n",
       "      <th>679</th>\n",
       "      <td>774303</td>\n",
       "      <td>151100</td>\n",
       "    </tr>\n",
       "    <tr>\n",
       "      <th>353</th>\n",
       "      <td>958785</td>\n",
       "      <td>150600</td>\n",
       "    </tr>\n",
       "    <tr>\n",
       "      <th>523</th>\n",
       "      <td>190588</td>\n",
       "      <td>149400</td>\n",
       "    </tr>\n",
       "    <tr>\n",
       "      <th>613</th>\n",
       "      <td>831053</td>\n",
       "      <td>148000</td>\n",
       "    </tr>\n",
       "    <tr>\n",
       "      <th>846</th>\n",
       "      <td>545506</td>\n",
       "      <td>142500</td>\n",
       "    </tr>\n",
       "    <tr>\n",
       "      <th>507</th>\n",
       "      <td>925128</td>\n",
       "      <td>142300</td>\n",
       "    </tr>\n",
       "    <tr>\n",
       "      <th>598</th>\n",
       "      <td>507545</td>\n",
       "      <td>141600</td>\n",
       "    </tr>\n",
       "    <tr>\n",
       "      <th>916</th>\n",
       "      <td>727443</td>\n",
       "      <td>141200</td>\n",
       "    </tr>\n",
       "    <tr>\n",
       "      <th>22</th>\n",
       "      <td>285496</td>\n",
       "      <td>140900</td>\n",
       "    </tr>\n",
       "    <tr>\n",
       "      <th>305</th>\n",
       "      <td>771236</td>\n",
       "      <td>139500</td>\n",
       "    </tr>\n",
       "    <tr>\n",
       "      <th>517</th>\n",
       "      <td>243226</td>\n",
       "      <td>139000</td>\n",
       "    </tr>\n",
       "    <tr>\n",
       "      <th>974</th>\n",
       "      <td>291006</td>\n",
       "      <td>138000</td>\n",
       "    </tr>\n",
       "    <tr>\n",
       "      <th>83</th>\n",
       "      <td>960680</td>\n",
       "      <td>137900</td>\n",
       "    </tr>\n",
       "    <tr>\n",
       "      <th>431</th>\n",
       "      <td>497347</td>\n",
       "      <td>136500</td>\n",
       "    </tr>\n",
       "    <tr>\n",
       "      <th>426</th>\n",
       "      <td>131478</td>\n",
       "      <td>136300</td>\n",
       "    </tr>\n",
       "    <tr>\n",
       "      <th>970</th>\n",
       "      <td>844129</td>\n",
       "      <td>136200</td>\n",
       "    </tr>\n",
       "    <tr>\n",
       "      <th>790</th>\n",
       "      <td>607259</td>\n",
       "      <td>136000</td>\n",
       "    </tr>\n",
       "  </tbody>\n",
       "</table>\n",
       "</div>"
      ],
      "text/plain": [
       "     policy_number  profit\n",
       "807         250833  192000\n",
       "533         840806  164100\n",
       "59          485372  153300\n",
       "679         774303  151100\n",
       "353         958785  150600\n",
       "523         190588  149400\n",
       "613         831053  148000\n",
       "846         545506  142500\n",
       "507         925128  142300\n",
       "598         507545  141600\n",
       "916         727443  141200\n",
       "22          285496  140900\n",
       "305         771236  139500\n",
       "517         243226  139000\n",
       "974         291006  138000\n",
       "83          960680  137900\n",
       "431         497347  136500\n",
       "426         131478  136300\n",
       "970         844129  136200\n",
       "790         607259  136000"
      ]
     },
     "execution_count": 30,
     "metadata": {},
     "output_type": "execute_result"
    }
   ],
   "source": [
    "df[['policy_number','profit']].sort_values('profit',ascending=False)[0:20]"
   ]
  },
  {
   "cell_type": "code",
   "execution_count": 31,
   "metadata": {},
   "outputs": [
    {
     "data": {
      "text/html": [
       "<div>\n",
       "<style scoped>\n",
       "    .dataframe tbody tr th:only-of-type {\n",
       "        vertical-align: middle;\n",
       "    }\n",
       "\n",
       "    .dataframe tbody tr th {\n",
       "        vertical-align: top;\n",
       "    }\n",
       "\n",
       "    .dataframe thead th {\n",
       "        text-align: right;\n",
       "    }\n",
       "</style>\n",
       "<table border=\"1\" class=\"dataframe\">\n",
       "  <thead>\n",
       "    <tr style=\"text-align: right;\">\n",
       "      <th></th>\n",
       "      <th>incident_date</th>\n",
       "      <th>incident_type</th>\n",
       "      <th>collision_type</th>\n",
       "      <th>incident_severity</th>\n",
       "      <th>authorities_contacted</th>\n",
       "      <th>incident_state</th>\n",
       "      <th>incident_city</th>\n",
       "      <th>incident_location</th>\n",
       "      <th>incident_hour_of_the_day</th>\n",
       "      <th>number_of_vehicles_involved</th>\n",
       "    </tr>\n",
       "  </thead>\n",
       "  <tbody>\n",
       "    <tr>\n",
       "      <th>0</th>\n",
       "      <td>25-01-2015</td>\n",
       "      <td>Single Vehicle Collision</td>\n",
       "      <td>Side Collision</td>\n",
       "      <td>Major Damage</td>\n",
       "      <td>Police</td>\n",
       "      <td>SC</td>\n",
       "      <td>Columbus</td>\n",
       "      <td>9935 4th Drive</td>\n",
       "      <td>5</td>\n",
       "      <td>1</td>\n",
       "    </tr>\n",
       "    <tr>\n",
       "      <th>1</th>\n",
       "      <td>21-01-2015</td>\n",
       "      <td>Vehicle Theft</td>\n",
       "      <td>?</td>\n",
       "      <td>Minor Damage</td>\n",
       "      <td>Police</td>\n",
       "      <td>VA</td>\n",
       "      <td>Riverwood</td>\n",
       "      <td>6608 MLK Hwy</td>\n",
       "      <td>8</td>\n",
       "      <td>1</td>\n",
       "    </tr>\n",
       "    <tr>\n",
       "      <th>2</th>\n",
       "      <td>22-02-2015</td>\n",
       "      <td>Multi-vehicle Collision</td>\n",
       "      <td>Rear Collision</td>\n",
       "      <td>Minor Damage</td>\n",
       "      <td>Police</td>\n",
       "      <td>NY</td>\n",
       "      <td>Columbus</td>\n",
       "      <td>7121 Francis Lane</td>\n",
       "      <td>7</td>\n",
       "      <td>3</td>\n",
       "    </tr>\n",
       "    <tr>\n",
       "      <th>3</th>\n",
       "      <td>10-01-2015</td>\n",
       "      <td>Single Vehicle Collision</td>\n",
       "      <td>Front Collision</td>\n",
       "      <td>Major Damage</td>\n",
       "      <td>Police</td>\n",
       "      <td>OH</td>\n",
       "      <td>Arlington</td>\n",
       "      <td>6956 Maple Drive</td>\n",
       "      <td>5</td>\n",
       "      <td>1</td>\n",
       "    </tr>\n",
       "    <tr>\n",
       "      <th>4</th>\n",
       "      <td>17-02-2015</td>\n",
       "      <td>Vehicle Theft</td>\n",
       "      <td>?</td>\n",
       "      <td>Minor Damage</td>\n",
       "      <td>None</td>\n",
       "      <td>NY</td>\n",
       "      <td>Arlington</td>\n",
       "      <td>3041 3rd Ave</td>\n",
       "      <td>20</td>\n",
       "      <td>1</td>\n",
       "    </tr>\n",
       "    <tr>\n",
       "      <th>...</th>\n",
       "      <td>...</td>\n",
       "      <td>...</td>\n",
       "      <td>...</td>\n",
       "      <td>...</td>\n",
       "      <td>...</td>\n",
       "      <td>...</td>\n",
       "      <td>...</td>\n",
       "      <td>...</td>\n",
       "      <td>...</td>\n",
       "      <td>...</td>\n",
       "    </tr>\n",
       "    <tr>\n",
       "      <th>995</th>\n",
       "      <td>22-02-2015</td>\n",
       "      <td>Single Vehicle Collision</td>\n",
       "      <td>Front Collision</td>\n",
       "      <td>Minor Damage</td>\n",
       "      <td>Fire</td>\n",
       "      <td>NC</td>\n",
       "      <td>Northbrook</td>\n",
       "      <td>6045 Andromedia St</td>\n",
       "      <td>20</td>\n",
       "      <td>1</td>\n",
       "    </tr>\n",
       "    <tr>\n",
       "      <th>996</th>\n",
       "      <td>24-01-2015</td>\n",
       "      <td>Single Vehicle Collision</td>\n",
       "      <td>Rear Collision</td>\n",
       "      <td>Major Damage</td>\n",
       "      <td>Fire</td>\n",
       "      <td>SC</td>\n",
       "      <td>Northbend</td>\n",
       "      <td>3092 Texas Drive</td>\n",
       "      <td>23</td>\n",
       "      <td>1</td>\n",
       "    </tr>\n",
       "    <tr>\n",
       "      <th>997</th>\n",
       "      <td>23-01-2015</td>\n",
       "      <td>Multi-vehicle Collision</td>\n",
       "      <td>Side Collision</td>\n",
       "      <td>Minor Damage</td>\n",
       "      <td>Police</td>\n",
       "      <td>NC</td>\n",
       "      <td>Arlington</td>\n",
       "      <td>7629 5th St</td>\n",
       "      <td>4</td>\n",
       "      <td>3</td>\n",
       "    </tr>\n",
       "    <tr>\n",
       "      <th>998</th>\n",
       "      <td>26-02-2015</td>\n",
       "      <td>Single Vehicle Collision</td>\n",
       "      <td>Rear Collision</td>\n",
       "      <td>Major Damage</td>\n",
       "      <td>Other</td>\n",
       "      <td>NY</td>\n",
       "      <td>Arlington</td>\n",
       "      <td>6128 Elm Lane</td>\n",
       "      <td>2</td>\n",
       "      <td>1</td>\n",
       "    </tr>\n",
       "    <tr>\n",
       "      <th>999</th>\n",
       "      <td>26-02-2015</td>\n",
       "      <td>Parked Car</td>\n",
       "      <td>?</td>\n",
       "      <td>Minor Damage</td>\n",
       "      <td>Police</td>\n",
       "      <td>WV</td>\n",
       "      <td>Columbus</td>\n",
       "      <td>1416 Cherokee Ridge</td>\n",
       "      <td>6</td>\n",
       "      <td>1</td>\n",
       "    </tr>\n",
       "  </tbody>\n",
       "</table>\n",
       "<p>1000 rows × 10 columns</p>\n",
       "</div>"
      ],
      "text/plain": [
       "    incident_date             incident_type   collision_type  \\\n",
       "0      25-01-2015  Single Vehicle Collision   Side Collision   \n",
       "1      21-01-2015             Vehicle Theft                ?   \n",
       "2      22-02-2015   Multi-vehicle Collision   Rear Collision   \n",
       "3      10-01-2015  Single Vehicle Collision  Front Collision   \n",
       "4      17-02-2015             Vehicle Theft                ?   \n",
       "..            ...                       ...              ...   \n",
       "995    22-02-2015  Single Vehicle Collision  Front Collision   \n",
       "996    24-01-2015  Single Vehicle Collision   Rear Collision   \n",
       "997    23-01-2015   Multi-vehicle Collision   Side Collision   \n",
       "998    26-02-2015  Single Vehicle Collision   Rear Collision   \n",
       "999    26-02-2015                Parked Car                ?   \n",
       "\n",
       "    incident_severity authorities_contacted incident_state incident_city  \\\n",
       "0        Major Damage                Police             SC      Columbus   \n",
       "1        Minor Damage                Police             VA     Riverwood   \n",
       "2        Minor Damage                Police             NY      Columbus   \n",
       "3        Major Damage                Police             OH     Arlington   \n",
       "4        Minor Damage                  None             NY     Arlington   \n",
       "..                ...                   ...            ...           ...   \n",
       "995      Minor Damage                  Fire             NC    Northbrook   \n",
       "996      Major Damage                  Fire             SC     Northbend   \n",
       "997      Minor Damage                Police             NC     Arlington   \n",
       "998      Major Damage                 Other             NY     Arlington   \n",
       "999      Minor Damage                Police             WV      Columbus   \n",
       "\n",
       "       incident_location  incident_hour_of_the_day  \\\n",
       "0         9935 4th Drive                         5   \n",
       "1           6608 MLK Hwy                         8   \n",
       "2      7121 Francis Lane                         7   \n",
       "3       6956 Maple Drive                         5   \n",
       "4           3041 3rd Ave                        20   \n",
       "..                   ...                       ...   \n",
       "995   6045 Andromedia St                        20   \n",
       "996     3092 Texas Drive                        23   \n",
       "997          7629 5th St                         4   \n",
       "998        6128 Elm Lane                         2   \n",
       "999  1416 Cherokee Ridge                         6   \n",
       "\n",
       "     number_of_vehicles_involved  \n",
       "0                              1  \n",
       "1                              1  \n",
       "2                              3  \n",
       "3                              1  \n",
       "4                              1  \n",
       "..                           ...  \n",
       "995                            1  \n",
       "996                            1  \n",
       "997                            3  \n",
       "998                            1  \n",
       "999                            1  \n",
       "\n",
       "[1000 rows x 10 columns]"
      ]
     },
     "execution_count": 31,
     "metadata": {},
     "output_type": "execute_result"
    }
   ],
   "source": [
    "df[['incident_date', 'incident_type', 'collision_type', 'incident_severity',\n",
    "       'authorities_contacted', 'incident_state', 'incident_city',\n",
    "       'incident_location', 'incident_hour_of_the_day',\n",
    "       'number_of_vehicles_involved']]"
   ]
  },
  {
   "cell_type": "code",
   "execution_count": 32,
   "metadata": {},
   "outputs": [
    {
     "data": {
      "text/html": [
       "<div>\n",
       "<style scoped>\n",
       "    .dataframe tbody tr th:only-of-type {\n",
       "        vertical-align: middle;\n",
       "    }\n",
       "\n",
       "    .dataframe tbody tr th {\n",
       "        vertical-align: top;\n",
       "    }\n",
       "\n",
       "    .dataframe thead th {\n",
       "        text-align: right;\n",
       "    }\n",
       "</style>\n",
       "<table border=\"1\" class=\"dataframe\">\n",
       "  <thead>\n",
       "    <tr style=\"text-align: right;\">\n",
       "      <th></th>\n",
       "      <th></th>\n",
       "      <th>incident_hour_of_the_day</th>\n",
       "      <th>number_of_vehicles_involved</th>\n",
       "      <th>total_claim_amount</th>\n",
       "      <th>vehicle_claim</th>\n",
       "    </tr>\n",
       "    <tr>\n",
       "      <th>incident_type</th>\n",
       "      <th>collision_type</th>\n",
       "      <th></th>\n",
       "      <th></th>\n",
       "      <th></th>\n",
       "      <th></th>\n",
       "    </tr>\n",
       "  </thead>\n",
       "  <tbody>\n",
       "    <tr>\n",
       "      <th rowspan=\"3\" valign=\"top\">Single Vehicle Collision</th>\n",
       "      <th>Front Collision</th>\n",
       "      <td>11.595238</td>\n",
       "      <td>1.000000</td>\n",
       "      <td>66596.190476</td>\n",
       "      <td>49030.000000</td>\n",
       "    </tr>\n",
       "    <tr>\n",
       "      <th>Side Collision</th>\n",
       "      <td>11.787879</td>\n",
       "      <td>1.000000</td>\n",
       "      <td>68009.696970</td>\n",
       "      <td>48481.212121</td>\n",
       "    </tr>\n",
       "    <tr>\n",
       "      <th>Rear Collision</th>\n",
       "      <td>11.071429</td>\n",
       "      <td>1.000000</td>\n",
       "      <td>65782.857143</td>\n",
       "      <td>47616.666667</td>\n",
       "    </tr>\n",
       "    <tr>\n",
       "      <th rowspan=\"3\" valign=\"top\">Multi-vehicle Collision</th>\n",
       "      <th>Side Collision</th>\n",
       "      <td>11.432432</td>\n",
       "      <td>2.972973</td>\n",
       "      <td>62281.621622</td>\n",
       "      <td>45308.648649</td>\n",
       "    </tr>\n",
       "    <tr>\n",
       "      <th>Front Collision</th>\n",
       "      <td>11.892857</td>\n",
       "      <td>2.964286</td>\n",
       "      <td>60970.000000</td>\n",
       "      <td>43860.000000</td>\n",
       "    </tr>\n",
       "    <tr>\n",
       "      <th>Rear Collision</th>\n",
       "      <td>14.142857</td>\n",
       "      <td>3.081633</td>\n",
       "      <td>61152.448980</td>\n",
       "      <td>43474.693878</td>\n",
       "    </tr>\n",
       "    <tr>\n",
       "      <th>Parked Car</th>\n",
       "      <th>?</th>\n",
       "      <td>7.000000</td>\n",
       "      <td>1.000000</td>\n",
       "      <td>5093.750000</td>\n",
       "      <td>3711.250000</td>\n",
       "    </tr>\n",
       "    <tr>\n",
       "      <th>Vehicle Theft</th>\n",
       "      <th>?</th>\n",
       "      <td>5.375000</td>\n",
       "      <td>1.000000</td>\n",
       "      <td>5197.500000</td>\n",
       "      <td>3665.000000</td>\n",
       "    </tr>\n",
       "  </tbody>\n",
       "</table>\n",
       "</div>"
      ],
      "text/plain": [
       "                                          incident_hour_of_the_day  \\\n",
       "incident_type            collision_type                              \n",
       "Single Vehicle Collision Front Collision                 11.595238   \n",
       "                         Side Collision                  11.787879   \n",
       "                         Rear Collision                  11.071429   \n",
       "Multi-vehicle Collision  Side Collision                  11.432432   \n",
       "                         Front Collision                 11.892857   \n",
       "                         Rear Collision                  14.142857   \n",
       "Parked Car               ?                                7.000000   \n",
       "Vehicle Theft            ?                                5.375000   \n",
       "\n",
       "                                          number_of_vehicles_involved  \\\n",
       "incident_type            collision_type                                 \n",
       "Single Vehicle Collision Front Collision                     1.000000   \n",
       "                         Side Collision                      1.000000   \n",
       "                         Rear Collision                      1.000000   \n",
       "Multi-vehicle Collision  Side Collision                      2.972973   \n",
       "                         Front Collision                     2.964286   \n",
       "                         Rear Collision                      3.081633   \n",
       "Parked Car               ?                                   1.000000   \n",
       "Vehicle Theft            ?                                   1.000000   \n",
       "\n",
       "                                          total_claim_amount  vehicle_claim  \n",
       "incident_type            collision_type                                      \n",
       "Single Vehicle Collision Front Collision        66596.190476   49030.000000  \n",
       "                         Side Collision         68009.696970   48481.212121  \n",
       "                         Rear Collision         65782.857143   47616.666667  \n",
       "Multi-vehicle Collision  Side Collision         62281.621622   45308.648649  \n",
       "                         Front Collision        60970.000000   43860.000000  \n",
       "                         Rear Collision         61152.448980   43474.693878  \n",
       "Parked Car               ?                       5093.750000    3711.250000  \n",
       "Vehicle Theft            ?                       5197.500000    3665.000000  "
      ]
     },
     "execution_count": 32,
     "metadata": {},
     "output_type": "execute_result"
    }
   ],
   "source": [
    "pd.pivot_table(a,values=['number_of_vehicles_involved','total_claim_amount','vehicle_claim','incident_hour_of_the_day'],index=['incident_type','collision_type']).sort_values('vehicle_claim',ascending=False)"
   ]
  },
  {
   "cell_type": "code",
   "execution_count": 33,
   "metadata": {},
   "outputs": [
    {
     "data": {
      "text/plain": [
       "1    581\n",
       "3    358\n",
       "4     31\n",
       "2     30\n",
       "Name: number_of_vehicles_involved, dtype: int64"
      ]
     },
     "execution_count": 33,
     "metadata": {},
     "output_type": "execute_result"
    }
   ],
   "source": [
    "df['number_of_vehicles_involved'].value_counts()"
   ]
  },
  {
   "cell_type": "code",
   "execution_count": 34,
   "metadata": {},
   "outputs": [
    {
     "data": {
      "text/plain": [
       "Multi-vehicle Collision     419\n",
       "Single Vehicle Collision    403\n",
       "Vehicle Theft                94\n",
       "Parked Car                   84\n",
       "Name: incident_type, dtype: int64"
      ]
     },
     "execution_count": 34,
     "metadata": {},
     "output_type": "execute_result"
    }
   ],
   "source": [
    "df['incident_type'].value_counts()"
   ]
  },
  {
   "cell_type": "code",
   "execution_count": 35,
   "metadata": {},
   "outputs": [
    {
     "data": {
      "text/plain": [
       "Rear Collision     292\n",
       "Side Collision     276\n",
       "Front Collision    254\n",
       "?                  178\n",
       "Name: collision_type, dtype: int64"
      ]
     },
     "execution_count": 35,
     "metadata": {},
     "output_type": "execute_result"
    }
   ],
   "source": [
    "df['collision_type'].value_counts()"
   ]
  },
  {
   "cell_type": "code",
   "execution_count": 36,
   "metadata": {},
   "outputs": [],
   "source": [
    "coll=a[['incident_type','collision_type']]"
   ]
  },
  {
   "cell_type": "code",
   "execution_count": 37,
   "metadata": {},
   "outputs": [],
   "source": [
    "res=coll.loc[coll['collision_type']=='?']"
   ]
  },
  {
   "cell_type": "code",
   "execution_count": 38,
   "metadata": {},
   "outputs": [
    {
     "data": {
      "text/plain": [
       "Parked Car       8\n",
       "Vehicle Theft    8\n",
       "Name: incident_type, dtype: int64"
      ]
     },
     "execution_count": 38,
     "metadata": {},
     "output_type": "execute_result"
    }
   ],
   "source": [
    "res['incident_type'].value_counts()"
   ]
  },
  {
   "cell_type": "code",
   "execution_count": 39,
   "metadata": {},
   "outputs": [],
   "source": [
    "coll_df=df[['incident_type','collision_type']]"
   ]
  },
  {
   "cell_type": "code",
   "execution_count": 40,
   "metadata": {},
   "outputs": [],
   "source": [
    "res_df=coll_df.loc[coll_df['collision_type']=='?']"
   ]
  },
  {
   "cell_type": "code",
   "execution_count": 41,
   "metadata": {},
   "outputs": [
    {
     "data": {
      "text/plain": [
       "Vehicle Theft    94\n",
       "Parked Car       84\n",
       "Name: incident_type, dtype: int64"
      ]
     },
     "execution_count": 41,
     "metadata": {},
     "output_type": "execute_result"
    }
   ],
   "source": [
    "res_df['incident_type'].value_counts()"
   ]
  },
  {
   "cell_type": "code",
   "execution_count": 42,
   "metadata": {},
   "outputs": [],
   "source": [
    "df['collision_type']=df['collision_type'].replace(\"?\",\"Not Applicable\")"
   ]
  },
  {
   "cell_type": "code",
   "execution_count": 43,
   "metadata": {},
   "outputs": [
    {
     "data": {
      "text/plain": [
       "Rear Collision     292\n",
       "Side Collision     276\n",
       "Front Collision    254\n",
       "Not Applicable     178\n",
       "Name: collision_type, dtype: int64"
      ]
     },
     "execution_count": 43,
     "metadata": {},
     "output_type": "execute_result"
    }
   ],
   "source": [
    "df['collision_type'].value_counts()"
   ]
  },
  {
   "cell_type": "code",
   "execution_count": 44,
   "metadata": {},
   "outputs": [
    {
     "data": {
      "text/plain": [
       "Arlington      44\n",
       "Columbus       39\n",
       "Springfield    38\n",
       "Hillsdale      35\n",
       "Northbend      34\n",
       "Riverwood      30\n",
       "Northbrook     27\n",
       "Name: incident_city, dtype: int64"
      ]
     },
     "execution_count": 44,
     "metadata": {},
     "output_type": "execute_result"
    }
   ],
   "source": [
    "a['incident_city'].value_counts()"
   ]
  },
  {
   "cell_type": "code",
   "execution_count": 45,
   "metadata": {},
   "outputs": [
    {
     "data": {
      "text/html": [
       "<div>\n",
       "<style scoped>\n",
       "    .dataframe tbody tr th:only-of-type {\n",
       "        vertical-align: middle;\n",
       "    }\n",
       "\n",
       "    .dataframe tbody tr th {\n",
       "        vertical-align: top;\n",
       "    }\n",
       "\n",
       "    .dataframe thead th {\n",
       "        text-align: right;\n",
       "    }\n",
       "</style>\n",
       "<table border=\"1\" class=\"dataframe\">\n",
       "  <thead>\n",
       "    <tr style=\"text-align: right;\">\n",
       "      <th></th>\n",
       "      <th></th>\n",
       "      <th>total_claim_amount</th>\n",
       "      <th>vehicle_claim</th>\n",
       "    </tr>\n",
       "    <tr>\n",
       "      <th>incident_state</th>\n",
       "      <th>incident_city</th>\n",
       "      <th></th>\n",
       "      <th></th>\n",
       "    </tr>\n",
       "  </thead>\n",
       "  <tbody>\n",
       "    <tr>\n",
       "      <th>SC</th>\n",
       "      <th>Riverwood</th>\n",
       "      <td>78980.000000</td>\n",
       "      <td>56553.333333</td>\n",
       "    </tr>\n",
       "    <tr>\n",
       "      <th>OH</th>\n",
       "      <th>Columbus</th>\n",
       "      <td>78100.000000</td>\n",
       "      <td>54670.000000</td>\n",
       "    </tr>\n",
       "    <tr>\n",
       "      <th>NC</th>\n",
       "      <th>Northbrook</th>\n",
       "      <td>76653.333333</td>\n",
       "      <td>55346.666667</td>\n",
       "    </tr>\n",
       "    <tr>\n",
       "      <th>WV</th>\n",
       "      <th>Northbrook</th>\n",
       "      <td>75205.000000</td>\n",
       "      <td>53997.500000</td>\n",
       "    </tr>\n",
       "    <tr>\n",
       "      <th>SC</th>\n",
       "      <th>Springfield</th>\n",
       "      <td>73116.666667</td>\n",
       "      <td>50267.500000</td>\n",
       "    </tr>\n",
       "    <tr>\n",
       "      <th>NY</th>\n",
       "      <th>Northbrook</th>\n",
       "      <td>69730.000000</td>\n",
       "      <td>50758.571429</td>\n",
       "    </tr>\n",
       "    <tr>\n",
       "      <th>NC</th>\n",
       "      <th>Springfield</th>\n",
       "      <td>69270.000000</td>\n",
       "      <td>51032.000000</td>\n",
       "    </tr>\n",
       "    <tr>\n",
       "      <th>NY</th>\n",
       "      <th>Springfield</th>\n",
       "      <td>67157.000000</td>\n",
       "      <td>47976.000000</td>\n",
       "    </tr>\n",
       "    <tr>\n",
       "      <th>OH</th>\n",
       "      <th>Northbrook</th>\n",
       "      <td>66550.000000</td>\n",
       "      <td>46585.000000</td>\n",
       "    </tr>\n",
       "    <tr>\n",
       "      <th>PA</th>\n",
       "      <th>Hillsdale</th>\n",
       "      <td>66480.000000</td>\n",
       "      <td>49860.000000</td>\n",
       "    </tr>\n",
       "    <tr>\n",
       "      <th rowspan=\"3\" valign=\"top\">WV</th>\n",
       "      <th>Arlington</th>\n",
       "      <td>66077.142857</td>\n",
       "      <td>45911.428571</td>\n",
       "    </tr>\n",
       "    <tr>\n",
       "      <th>Hillsdale</th>\n",
       "      <td>65931.666667</td>\n",
       "      <td>46198.333333</td>\n",
       "    </tr>\n",
       "    <tr>\n",
       "      <th>Northbend</th>\n",
       "      <td>65786.000000</td>\n",
       "      <td>49410.000000</td>\n",
       "    </tr>\n",
       "    <tr>\n",
       "      <th>NY</th>\n",
       "      <th>Columbus</th>\n",
       "      <td>65067.777778</td>\n",
       "      <td>47463.333333</td>\n",
       "    </tr>\n",
       "    <tr>\n",
       "      <th>SC</th>\n",
       "      <th>Northbend</th>\n",
       "      <td>64135.555556</td>\n",
       "      <td>46540.000000</td>\n",
       "    </tr>\n",
       "    <tr>\n",
       "      <th rowspan=\"2\" valign=\"top\">NY</th>\n",
       "      <th>Hillsdale</th>\n",
       "      <td>64012.857143</td>\n",
       "      <td>47301.428571</td>\n",
       "    </tr>\n",
       "    <tr>\n",
       "      <th>Northbend</th>\n",
       "      <td>63797.500000</td>\n",
       "      <td>45491.250000</td>\n",
       "    </tr>\n",
       "    <tr>\n",
       "      <th>SC</th>\n",
       "      <th>Arlington</th>\n",
       "      <td>63037.500000</td>\n",
       "      <td>44675.000000</td>\n",
       "    </tr>\n",
       "    <tr>\n",
       "      <th rowspan=\"2\" valign=\"top\">VA</th>\n",
       "      <th>Springfield</th>\n",
       "      <td>61665.000000</td>\n",
       "      <td>47475.000000</td>\n",
       "    </tr>\n",
       "    <tr>\n",
       "      <th>Columbus</th>\n",
       "      <td>61635.000000</td>\n",
       "      <td>45662.500000</td>\n",
       "    </tr>\n",
       "  </tbody>\n",
       "</table>\n",
       "</div>"
      ],
      "text/plain": [
       "                              total_claim_amount  vehicle_claim\n",
       "incident_state incident_city                                   \n",
       "SC             Riverwood            78980.000000   56553.333333\n",
       "OH             Columbus             78100.000000   54670.000000\n",
       "NC             Northbrook           76653.333333   55346.666667\n",
       "WV             Northbrook           75205.000000   53997.500000\n",
       "SC             Springfield          73116.666667   50267.500000\n",
       "NY             Northbrook           69730.000000   50758.571429\n",
       "NC             Springfield          69270.000000   51032.000000\n",
       "NY             Springfield          67157.000000   47976.000000\n",
       "OH             Northbrook           66550.000000   46585.000000\n",
       "PA             Hillsdale            66480.000000   49860.000000\n",
       "WV             Arlington            66077.142857   45911.428571\n",
       "               Hillsdale            65931.666667   46198.333333\n",
       "               Northbend            65786.000000   49410.000000\n",
       "NY             Columbus             65067.777778   47463.333333\n",
       "SC             Northbend            64135.555556   46540.000000\n",
       "NY             Hillsdale            64012.857143   47301.428571\n",
       "               Northbend            63797.500000   45491.250000\n",
       "SC             Arlington            63037.500000   44675.000000\n",
       "VA             Springfield          61665.000000   47475.000000\n",
       "               Columbus             61635.000000   45662.500000"
      ]
     },
     "execution_count": 45,
     "metadata": {},
     "output_type": "execute_result"
    }
   ],
   "source": [
    "pd.pivot_table(a,values=['total_claim_amount','vehicle_claim'],index=['incident_state','incident_city']).sort_values('total_claim_amount',ascending=False)[:20]"
   ]
  },
  {
   "cell_type": "code",
   "execution_count": 46,
   "metadata": {},
   "outputs": [
    {
     "data": {
      "text/plain": [
       "Index(['months_as_customer', 'age', 'policy_number', 'policy_bind_date',\n",
       "       'policy_state', 'policy_csl', 'policy_deductable',\n",
       "       'policy_annual_premium', 'umbrella_limit', 'insured_zip', 'insured_sex',\n",
       "       'insured_education_level', 'insured_occupation', 'insured_hobbies',\n",
       "       'insured_relationship', 'capital-gains', 'capital-loss',\n",
       "       'incident_date', 'incident_type', 'collision_type', 'incident_severity',\n",
       "       'authorities_contacted', 'incident_state', 'incident_city',\n",
       "       'incident_location', 'incident_hour_of_the_day',\n",
       "       'number_of_vehicles_involved', 'property_damage', 'bodily_injuries',\n",
       "       'witnesses', 'police_report_available', 'total_claim_amount',\n",
       "       'injury_claim', 'property_claim', 'vehicle_claim', 'auto_make',\n",
       "       'auto_model', 'auto_year', 'fraud_reported', '_c39', 'profit'],\n",
       "      dtype='object')"
      ]
     },
     "execution_count": 46,
     "metadata": {},
     "output_type": "execute_result"
    }
   ],
   "source": [
    "df.columns"
   ]
  },
  {
   "cell_type": "code",
   "execution_count": 47,
   "metadata": {},
   "outputs": [
    {
     "data": {
      "text/html": [
       "<div>\n",
       "<style scoped>\n",
       "    .dataframe tbody tr th:only-of-type {\n",
       "        vertical-align: middle;\n",
       "    }\n",
       "\n",
       "    .dataframe tbody tr th {\n",
       "        vertical-align: top;\n",
       "    }\n",
       "\n",
       "    .dataframe thead th {\n",
       "        text-align: right;\n",
       "    }\n",
       "</style>\n",
       "<table border=\"1\" class=\"dataframe\">\n",
       "  <thead>\n",
       "    <tr style=\"text-align: right;\">\n",
       "      <th></th>\n",
       "      <th>months_as_customer</th>\n",
       "      <th>age</th>\n",
       "      <th>policy_number</th>\n",
       "      <th>policy_bind_date</th>\n",
       "      <th>policy_state</th>\n",
       "      <th>policy_csl</th>\n",
       "      <th>policy_deductable</th>\n",
       "      <th>policy_annual_premium</th>\n",
       "      <th>umbrella_limit</th>\n",
       "      <th>insured_zip</th>\n",
       "      <th>...</th>\n",
       "      <th>police_report_available</th>\n",
       "      <th>total_claim_amount</th>\n",
       "      <th>injury_claim</th>\n",
       "      <th>property_claim</th>\n",
       "      <th>vehicle_claim</th>\n",
       "      <th>auto_make</th>\n",
       "      <th>auto_model</th>\n",
       "      <th>auto_year</th>\n",
       "      <th>fraud_reported</th>\n",
       "      <th>_c39</th>\n",
       "    </tr>\n",
       "  </thead>\n",
       "  <tbody>\n",
       "    <tr>\n",
       "      <th>60</th>\n",
       "      <td>154</td>\n",
       "      <td>34</td>\n",
       "      <td>598554</td>\n",
       "      <td>14-02-1990</td>\n",
       "      <td>IN</td>\n",
       "      <td>100/300</td>\n",
       "      <td>500</td>\n",
       "      <td>795.23</td>\n",
       "      <td>0</td>\n",
       "      <td>609216</td>\n",
       "      <td>...</td>\n",
       "      <td>?</td>\n",
       "      <td>69480</td>\n",
       "      <td>15440</td>\n",
       "      <td>0</td>\n",
       "      <td>54040</td>\n",
       "      <td>Nissan</td>\n",
       "      <td>Maxima</td>\n",
       "      <td>2014</td>\n",
       "      <td>Y</td>\n",
       "      <td>NaN</td>\n",
       "    </tr>\n",
       "    <tr>\n",
       "      <th>155</th>\n",
       "      <td>375</td>\n",
       "      <td>50</td>\n",
       "      <td>120485</td>\n",
       "      <td>18-02-2007</td>\n",
       "      <td>OH</td>\n",
       "      <td>100/300</td>\n",
       "      <td>1000</td>\n",
       "      <td>1275.39</td>\n",
       "      <td>0</td>\n",
       "      <td>466283</td>\n",
       "      <td>...</td>\n",
       "      <td>NO</td>\n",
       "      <td>37280</td>\n",
       "      <td>0</td>\n",
       "      <td>0</td>\n",
       "      <td>37280</td>\n",
       "      <td>Audi</td>\n",
       "      <td>A5</td>\n",
       "      <td>1996</td>\n",
       "      <td>Y</td>\n",
       "      <td>NaN</td>\n",
       "    </tr>\n",
       "    <tr>\n",
       "      <th>705</th>\n",
       "      <td>274</td>\n",
       "      <td>45</td>\n",
       "      <td>589094</td>\n",
       "      <td>27-05-2003</td>\n",
       "      <td>IN</td>\n",
       "      <td>250/500</td>\n",
       "      <td>1000</td>\n",
       "      <td>1353.53</td>\n",
       "      <td>0</td>\n",
       "      <td>451467</td>\n",
       "      <td>...</td>\n",
       "      <td>NO</td>\n",
       "      <td>58500</td>\n",
       "      <td>11700</td>\n",
       "      <td>0</td>\n",
       "      <td>46800</td>\n",
       "      <td>Accura</td>\n",
       "      <td>MDX</td>\n",
       "      <td>1995</td>\n",
       "      <td>Y</td>\n",
       "      <td>NaN</td>\n",
       "    </tr>\n",
       "    <tr>\n",
       "      <th>803</th>\n",
       "      <td>123</td>\n",
       "      <td>29</td>\n",
       "      <td>379268</td>\n",
       "      <td>05-08-2012</td>\n",
       "      <td>IN</td>\n",
       "      <td>250/500</td>\n",
       "      <td>500</td>\n",
       "      <td>1209.63</td>\n",
       "      <td>0</td>\n",
       "      <td>447188</td>\n",
       "      <td>...</td>\n",
       "      <td>YES</td>\n",
       "      <td>73260</td>\n",
       "      <td>16280</td>\n",
       "      <td>0</td>\n",
       "      <td>56980</td>\n",
       "      <td>Volkswagen</td>\n",
       "      <td>Jetta</td>\n",
       "      <td>2014</td>\n",
       "      <td>Y</td>\n",
       "      <td>NaN</td>\n",
       "    </tr>\n",
       "    <tr>\n",
       "      <th>843</th>\n",
       "      <td>297</td>\n",
       "      <td>48</td>\n",
       "      <td>264221</td>\n",
       "      <td>28-07-2014</td>\n",
       "      <td>IL</td>\n",
       "      <td>500/1000</td>\n",
       "      <td>1000</td>\n",
       "      <td>1243.68</td>\n",
       "      <td>0</td>\n",
       "      <td>463331</td>\n",
       "      <td>...</td>\n",
       "      <td>?</td>\n",
       "      <td>54960</td>\n",
       "      <td>6870</td>\n",
       "      <td>0</td>\n",
       "      <td>48090</td>\n",
       "      <td>Toyota</td>\n",
       "      <td>Corolla</td>\n",
       "      <td>2002</td>\n",
       "      <td>Y</td>\n",
       "      <td>NaN</td>\n",
       "    </tr>\n",
       "    <tr>\n",
       "      <th>938</th>\n",
       "      <td>147</td>\n",
       "      <td>31</td>\n",
       "      <td>746630</td>\n",
       "      <td>10-02-1997</td>\n",
       "      <td>IN</td>\n",
       "      <td>250/500</td>\n",
       "      <td>500</td>\n",
       "      <td>1054.92</td>\n",
       "      <td>6000000</td>\n",
       "      <td>468232</td>\n",
       "      <td>...</td>\n",
       "      <td>?</td>\n",
       "      <td>68240</td>\n",
       "      <td>8530</td>\n",
       "      <td>0</td>\n",
       "      <td>59710</td>\n",
       "      <td>Toyota</td>\n",
       "      <td>Corolla</td>\n",
       "      <td>2013</td>\n",
       "      <td>Y</td>\n",
       "      <td>NaN</td>\n",
       "    </tr>\n",
       "  </tbody>\n",
       "</table>\n",
       "<p>6 rows × 40 columns</p>\n",
       "</div>"
      ],
      "text/plain": [
       "     months_as_customer  age  policy_number policy_bind_date policy_state  \\\n",
       "60                  154   34         598554       14-02-1990           IN   \n",
       "155                 375   50         120485       18-02-2007           OH   \n",
       "705                 274   45         589094       27-05-2003           IN   \n",
       "803                 123   29         379268       05-08-2012           IN   \n",
       "843                 297   48         264221       28-07-2014           IL   \n",
       "938                 147   31         746630       10-02-1997           IN   \n",
       "\n",
       "    policy_csl  policy_deductable  policy_annual_premium  umbrella_limit  \\\n",
       "60     100/300                500                 795.23               0   \n",
       "155    100/300               1000                1275.39               0   \n",
       "705    250/500               1000                1353.53               0   \n",
       "803    250/500                500                1209.63               0   \n",
       "843   500/1000               1000                1243.68               0   \n",
       "938    250/500                500                1054.92         6000000   \n",
       "\n",
       "     insured_zip  ... police_report_available total_claim_amount injury_claim  \\\n",
       "60        609216  ...                       ?              69480        15440   \n",
       "155       466283  ...                      NO              37280            0   \n",
       "705       451467  ...                      NO              58500        11700   \n",
       "803       447188  ...                     YES              73260        16280   \n",
       "843       463331  ...                       ?              54960         6870   \n",
       "938       468232  ...                       ?              68240         8530   \n",
       "\n",
       "    property_claim vehicle_claim   auto_make  auto_model auto_year  \\\n",
       "60               0         54040      Nissan      Maxima      2014   \n",
       "155              0         37280        Audi          A5      1996   \n",
       "705              0         46800      Accura         MDX      1995   \n",
       "803              0         56980  Volkswagen       Jetta      2014   \n",
       "843              0         48090      Toyota     Corolla      2002   \n",
       "938              0         59710      Toyota     Corolla      2013   \n",
       "\n",
       "    fraud_reported _c39  \n",
       "60               Y  NaN  \n",
       "155              Y  NaN  \n",
       "705              Y  NaN  \n",
       "803              Y  NaN  \n",
       "843              Y  NaN  \n",
       "938              Y  NaN  \n",
       "\n",
       "[6 rows x 40 columns]"
      ]
     },
     "execution_count": 47,
     "metadata": {},
     "output_type": "execute_result"
    }
   ],
   "source": [
    "a.loc[(a['property_claim'] == 0.0 )&(a['vehicle_claim'] != 0.0 )]"
   ]
  },
  {
   "cell_type": "code",
   "execution_count": 48,
   "metadata": {},
   "outputs": [
    {
     "name": "stderr",
     "output_type": "stream",
     "text": [
      "/home/soma/snap/jupyter/common/lib/python3.7/site-packages/seaborn/_decorators.py:43: FutureWarning: Pass the following variable as a keyword arg: x. From version 0.12, the only valid positional argument will be `data`, and passing other arguments without an explicit keyword will result in an error or misinterpretation.\n",
      "  FutureWarning\n",
      "/home/soma/snap/jupyter/common/lib/python3.7/site-packages/seaborn/_decorators.py:43: FutureWarning: Pass the following variable as a keyword arg: x. From version 0.12, the only valid positional argument will be `data`, and passing other arguments without an explicit keyword will result in an error or misinterpretation.\n",
      "  FutureWarning\n"
     ]
    },
    {
     "data": {
      "image/png": "[encoded data removed]",
      "text/plain": [
       "<Figure size 1152x576 with 2 Axes>"
      ]
     },
     "metadata": {},
     "output_type": "display_data"
    }
   ],
   "source": [
    "plt.figure(figsize=(16,8))\n",
    "plt.subplot(2,1,1)\n",
    "plt.title(\"Count plot for Auto make\",fontsize=20)\n",
    "sns.countplot('auto_make',data=df)\n",
    "plt.xticks(rotation=45)\n",
    "plt.grid(True)\n",
    "plt.tight_layout()\n",
    "plt.subplot(2,1,2)\n",
    "plt.title(\"Count plot for Auto model\",fontsize=20)\n",
    "sns.countplot('auto_model',data=df)\n",
    "plt.xticks(rotation=90)\n",
    "plt.grid(True)\n",
    "plt.tight_layout()\n",
    "plt.show()"
   ]
  },
  {
   "cell_type": "code",
   "execution_count": 49,
   "metadata": {},
   "outputs": [
    {
     "data": {
      "text/plain": [
       "Mercedes      22\n",
       "Ford          22\n",
       "Audi          21\n",
       "Chevrolet     21\n",
       "BMW           20\n",
       "Dodge         20\n",
       "Suburu        19\n",
       "Volkswagen    19\n",
       "Saab          18\n",
       "Honda         14\n",
       "Nissan        14\n",
       "Accura        13\n",
       "Toyota        13\n",
       "Jeep          11\n",
       "Name: auto_make, dtype: int64"
      ]
     },
     "execution_count": 49,
     "metadata": {},
     "output_type": "execute_result"
    }
   ],
   "source": [
    "a['auto_make'].value_counts()"
   ]
  },
  {
   "cell_type": "code",
   "execution_count": 50,
   "metadata": {},
   "outputs": [
    {
     "name": "stderr",
     "output_type": "stream",
     "text": [
      "/home/soma/snap/jupyter/common/lib/python3.7/site-packages/seaborn/_decorators.py:43: FutureWarning: Pass the following variable as a keyword arg: x. From version 0.12, the only valid positional argument will be `data`, and passing other arguments without an explicit keyword will result in an error or misinterpretation.\n",
      "  FutureWarning\n"
     ]
    },
    {
     "data": {
      "image/png": "[encoded data removed]",
      "text/plain": [
       "<Figure size 1152x576 with 1 Axes>"
      ]
     },
     "metadata": {},
     "output_type": "display_data"
    }
   ],
   "source": [
    "plt.figure(figsize=(16,8))\n",
    "plt.title(\"Count plot of Auto make which have Fraud claim\",fontsize=20)\n",
    "sns.countplot('auto_make',data=a)\n",
    "plt.xticks(rotation=45)\n",
    "plt.grid(True)\n",
    "plt.show()"
   ]
  },
  {
   "cell_type": "code",
   "execution_count": 51,
   "metadata": {},
   "outputs": [
    {
     "data": {
      "text/html": [
       "<div>\n",
       "<style scoped>\n",
       "    .dataframe tbody tr th:only-of-type {\n",
       "        vertical-align: middle;\n",
       "    }\n",
       "\n",
       "    .dataframe tbody tr th {\n",
       "        vertical-align: top;\n",
       "    }\n",
       "\n",
       "    .dataframe thead th {\n",
       "        text-align: right;\n",
       "    }\n",
       "</style>\n",
       "<table border=\"1\" class=\"dataframe\">\n",
       "  <thead>\n",
       "    <tr style=\"text-align: right;\">\n",
       "      <th></th>\n",
       "      <th></th>\n",
       "      <th></th>\n",
       "      <th>vehicle_claim</th>\n",
       "    </tr>\n",
       "    <tr>\n",
       "      <th>auto_model</th>\n",
       "      <th>auto_make</th>\n",
       "      <th>policy_number</th>\n",
       "      <th></th>\n",
       "    </tr>\n",
       "  </thead>\n",
       "  <tbody>\n",
       "    <tr>\n",
       "      <th>Impreza</th>\n",
       "      <th>Suburu</th>\n",
       "      <th>217938</th>\n",
       "      <td>77760</td>\n",
       "    </tr>\n",
       "    <tr>\n",
       "      <th>TL</th>\n",
       "      <th>Accura</th>\n",
       "      <th>515050</th>\n",
       "      <td>76400</td>\n",
       "    </tr>\n",
       "    <tr>\n",
       "      <th>Tahoe</th>\n",
       "      <th>Chevrolet</th>\n",
       "      <th>291006</th>\n",
       "      <td>75600</td>\n",
       "    </tr>\n",
       "    <tr>\n",
       "      <th>Neon</th>\n",
       "      <th>Dodge</th>\n",
       "      <th>346940</th>\n",
       "      <td>75530</td>\n",
       "    </tr>\n",
       "    <tr>\n",
       "      <th>RAM</th>\n",
       "      <th>Dodge</th>\n",
       "      <th>115399</th>\n",
       "      <td>73620</td>\n",
       "    </tr>\n",
       "    <tr>\n",
       "      <th>Accord</th>\n",
       "      <th>Honda</th>\n",
       "      <th>127754</th>\n",
       "      <td>71520</td>\n",
       "    </tr>\n",
       "    <tr>\n",
       "      <th>Highlander</th>\n",
       "      <th>Toyota</th>\n",
       "      <th>209177</th>\n",
       "      <td>69210</td>\n",
       "    </tr>\n",
       "    <tr>\n",
       "      <th>Tahoe</th>\n",
       "      <th>Chevrolet</th>\n",
       "      <th>187775</th>\n",
       "      <td>68310</td>\n",
       "    </tr>\n",
       "    <tr>\n",
       "      <th>Escape</th>\n",
       "      <th>Ford</th>\n",
       "      <th>626208</th>\n",
       "      <td>67590</td>\n",
       "    </tr>\n",
       "    <tr>\n",
       "      <th>E400</th>\n",
       "      <th>Mercedes</th>\n",
       "      <th>728025</th>\n",
       "      <td>67440</td>\n",
       "    </tr>\n",
       "  </tbody>\n",
       "</table>\n",
       "</div>"
      ],
      "text/plain": [
       "                                    vehicle_claim\n",
       "auto_model auto_make policy_number               \n",
       "Impreza    Suburu    217938                 77760\n",
       "TL         Accura    515050                 76400\n",
       "Tahoe      Chevrolet 291006                 75600\n",
       "Neon       Dodge     346940                 75530\n",
       "RAM        Dodge     115399                 73620\n",
       "Accord     Honda     127754                 71520\n",
       "Highlander Toyota    209177                 69210\n",
       "Tahoe      Chevrolet 187775                 68310\n",
       "Escape     Ford      626208                 67590\n",
       "E400       Mercedes  728025                 67440"
      ]
     },
     "execution_count": 51,
     "metadata": {},
     "output_type": "execute_result"
    }
   ],
   "source": [
    "pd.pivot_table(a,values=['vehicle_claim'],index=['auto_model','auto_make','policy_number']).sort_values('vehicle_claim',ascending=False)[0:10]"
   ]
  },
  {
   "cell_type": "code",
   "execution_count": 52,
   "metadata": {},
   "outputs": [
    {
     "data": {
      "text/plain": [
       "Index(['months_as_customer', 'age', 'policy_number', 'policy_bind_date',\n",
       "       'policy_state', 'policy_csl', 'policy_deductable',\n",
       "       'policy_annual_premium', 'umbrella_limit', 'insured_zip', 'insured_sex',\n",
       "       'insured_education_level', 'insured_occupation', 'insured_hobbies',\n",
       "       'insured_relationship', 'capital-gains', 'capital-loss',\n",
       "       'incident_date', 'incident_type', 'collision_type', 'incident_severity',\n",
       "       'authorities_contacted', 'incident_state', 'incident_city',\n",
       "       'incident_location', 'incident_hour_of_the_day',\n",
       "       'number_of_vehicles_involved', 'property_damage', 'bodily_injuries',\n",
       "       'witnesses', 'police_report_available', 'total_claim_amount',\n",
       "       'injury_claim', 'property_claim', 'vehicle_claim', 'auto_make',\n",
       "       'auto_model', 'auto_year', 'fraud_reported', '_c39', 'profit'],\n",
       "      dtype='object')"
      ]
     },
     "execution_count": 52,
     "metadata": {},
     "output_type": "execute_result"
    }
   ],
   "source": [
    "df.columns"
   ]
  },
  {
   "cell_type": "code",
   "execution_count": 53,
   "metadata": {},
   "outputs": [
    {
     "data": {
      "text/plain": [
       "2    90\n",
       "0    80\n",
       "1    77\n",
       "Name: bodily_injuries, dtype: int64"
      ]
     },
     "execution_count": 53,
     "metadata": {},
     "output_type": "execute_result"
    }
   ],
   "source": [
    "a['bodily_injuries'].value_counts()"
   ]
  },
  {
   "cell_type": "code",
   "execution_count": 54,
   "metadata": {},
   "outputs": [
    {
     "data": {
      "text/plain": [
       "?      89\n",
       "NO     86\n",
       "YES    72\n",
       "Name: police_report_available, dtype: int64"
      ]
     },
     "execution_count": 54,
     "metadata": {},
     "output_type": "execute_result"
    }
   ],
   "source": [
    "a['police_report_available'].value_counts()"
   ]
  },
  {
   "cell_type": "code",
   "execution_count": 55,
   "metadata": {},
   "outputs": [],
   "source": [
    "df['police_report_available']=df['police_report_available'].replace(\"?\",\"Unknown\")"
   ]
  },
  {
   "cell_type": "code",
   "execution_count": 56,
   "metadata": {},
   "outputs": [
    {
     "data": {
      "text/plain": [
       "Index(['months_as_customer', 'age', 'policy_number', 'policy_bind_date',\n",
       "       'policy_state', 'policy_csl', 'policy_deductable',\n",
       "       'policy_annual_premium', 'umbrella_limit', 'insured_zip', 'insured_sex',\n",
       "       'insured_education_level', 'insured_occupation', 'insured_hobbies',\n",
       "       'insured_relationship', 'capital-gains', 'capital-loss',\n",
       "       'incident_date', 'incident_type', 'collision_type', 'incident_severity',\n",
       "       'authorities_contacted', 'incident_state', 'incident_city',\n",
       "       'incident_location', 'incident_hour_of_the_day',\n",
       "       'number_of_vehicles_involved', 'property_damage', 'bodily_injuries',\n",
       "       'witnesses', 'police_report_available', 'total_claim_amount',\n",
       "       'injury_claim', 'property_claim', 'vehicle_claim', 'auto_make',\n",
       "       'auto_model', 'auto_year', 'fraud_reported', '_c39', 'profit'],\n",
       "      dtype='object')"
      ]
     },
     "execution_count": 56,
     "metadata": {},
     "output_type": "execute_result"
    }
   ],
   "source": [
    "df.columns"
   ]
  },
  {
   "cell_type": "code",
   "execution_count": 57,
   "metadata": {},
   "outputs": [],
   "source": [
    "df['umbrella_limit']=df['umbrella_limit'].replace(-1000000,0)"
   ]
  },
  {
   "cell_type": "code",
   "execution_count": 58,
   "metadata": {},
   "outputs": [],
   "source": [
    "df2=df"
   ]
  },
  {
   "cell_type": "code",
   "execution_count": 59,
   "metadata": {},
   "outputs": [],
   "source": [
    "df2=df2.drop(['policy_number','policy_bind_date','_c39','insured_zip','incident_date','authorities_contacted','profit','auto_make','auto_model'],axis=1)"
   ]
  },
  {
   "cell_type": "code",
   "execution_count": 60,
   "metadata": {},
   "outputs": [
    {
     "data": {
      "text/plain": [
       "Index(['months_as_customer', 'age', 'policy_state', 'policy_csl',\n",
       "       'policy_deductable', 'policy_annual_premium', 'umbrella_limit',\n",
       "       'insured_sex', 'insured_education_level', 'insured_occupation',\n",
       "       'insured_hobbies', 'insured_relationship', 'capital-gains',\n",
       "       'capital-loss', 'incident_type', 'collision_type', 'incident_severity',\n",
       "       'incident_state', 'incident_city', 'incident_location',\n",
       "       'incident_hour_of_the_day', 'number_of_vehicles_involved',\n",
       "       'property_damage', 'bodily_injuries', 'witnesses',\n",
       "       'police_report_available', 'total_claim_amount', 'injury_claim',\n",
       "       'property_claim', 'vehicle_claim', 'auto_year', 'fraud_reported'],\n",
       "      dtype='object')"
      ]
     },
     "execution_count": 60,
     "metadata": {},
     "output_type": "execute_result"
    }
   ],
   "source": [
    "df2.columns"
   ]
  },
  {
   "cell_type": "code",
   "execution_count": 61,
   "metadata": {},
   "outputs": [],
   "source": [
    "df2=pd.get_dummies(df2,columns=['policy_state','policy_csl','insured_sex','insured_education_level','insured_occupation',\n",
    "                                'insured_hobbies','insured_relationship','incident_type','collision_type','incident_severity','incident_state',\n",
    "                                'incident_city','incident_location','property_damage','police_report_available'],drop_first=True)"
   ]
  },
  {
   "cell_type": "code",
   "execution_count": 62,
   "metadata": {},
   "outputs": [
    {
     "data": {
      "text/plain": [
       "(1000, 1089)"
      ]
     },
     "execution_count": 62,
     "metadata": {},
     "output_type": "execute_result"
    }
   ],
   "source": [
    "df2.shape"
   ]
  },
  {
   "cell_type": "code",
   "execution_count": 63,
   "metadata": {},
   "outputs": [
    {
     "data": {
      "text/plain": [
       "Index(['months_as_customer', 'age', 'policy_deductable',\n",
       "       'policy_annual_premium', 'umbrella_limit', 'capital-gains',\n",
       "       'capital-loss', 'incident_hour_of_the_day',\n",
       "       'number_of_vehicles_involved', 'bodily_injuries',\n",
       "       ...\n",
       "       'incident_location_9918 Andromedia Drive',\n",
       "       'incident_location_9929 Rock Drive', 'incident_location_9935 4th Drive',\n",
       "       'incident_location_9942 Tree Ave', 'incident_location_9980 Lincoln Ave',\n",
       "       'incident_location_9988 Rock Ridge', 'property_damage_NO',\n",
       "       'property_damage_YES', 'police_report_available_Unknown',\n",
       "       'police_report_available_YES'],\n",
       "      dtype='object', length=1089)"
      ]
     },
     "execution_count": 63,
     "metadata": {},
     "output_type": "execute_result"
    }
   ],
   "source": [
    "df2.columns"
   ]
  },
  {
   "cell_type": "code",
   "execution_count": 64,
   "metadata": {},
   "outputs": [],
   "source": [
    "x=df2.drop(['fraud_reported'],axis=1)"
   ]
  },
  {
   "cell_type": "code",
   "execution_count": 65,
   "metadata": {},
   "outputs": [],
   "source": [
    "y=df2['fraud_reported']"
   ]
  },
  {
   "cell_type": "markdown",
   "metadata": {},
   "source": [
    "## Model Building"
   ]
  },
  {
   "cell_type": "code",
   "execution_count": 66,
   "metadata": {},
   "outputs": [
    {
     "name": "stderr",
     "output_type": "stream",
     "text": [
      "/home/soma/snap/jupyter/common/lib/python3.7/site-packages/joblib/_multiprocessing_helpers.py:45: UserWarning: [Errno 13] Permission denied.  joblib will operate in serial mode\n",
      "  warnings.warn('%s.  joblib will operate in serial mode' % (e,))\n"
     ]
    },
    {
     "name": "stdout",
     "output_type": "stream",
     "text": [
      "(1506, 1088)\n",
      "(1506,)\n"
     ]
    }
   ],
   "source": [
    "from imblearn.over_sampling import SMOTE\n",
    "\n",
    "x_upsample, y_upsample  = SMOTE().fit_resample(x, y)\n",
    "\n",
    "print(x_upsample.shape)\n",
    "print(y_upsample.shape)"
   ]
  },
  {
   "cell_type": "code",
   "execution_count": 67,
   "metadata": {},
   "outputs": [
    {
     "data": {
      "text/plain": [
       "Y    753\n",
       "N    753\n",
       "Name: fraud_reported, dtype: int64"
      ]
     },
     "execution_count": 67,
     "metadata": {},
     "output_type": "execute_result"
    }
   ],
   "source": [
    "y_upsample.value_counts()"
   ]
  },
  {
   "cell_type": "code",
   "execution_count": 68,
   "metadata": {},
   "outputs": [],
   "source": [
    "from sklearn.preprocessing import StandardScaler\n",
    "sc=StandardScaler()"
   ]
  },
  {
   "cell_type": "code",
   "execution_count": 69,
   "metadata": {},
   "outputs": [],
   "source": [
    "x_scale=sc.fit_transform(x_upsample)"
   ]
  },
  {
   "cell_type": "code",
   "execution_count": 70,
   "metadata": {},
   "outputs": [],
   "source": [
    "from sklearn.decomposition import PCA\n",
    "pca=PCA(n_components=0.95)\n",
    "x_scaled=pca.fit_transform(x_scale)"
   ]
  },
  {
   "cell_type": "code",
   "execution_count": 71,
   "metadata": {},
   "outputs": [],
   "source": [
    "r=pca.explained_variance_ratio_"
   ]
  },
  {
   "cell_type": "code",
   "execution_count": 72,
   "metadata": {},
   "outputs": [
    {
     "data": {
      "text/plain": [
       "0.9504266875478465"
      ]
     },
     "execution_count": 72,
     "metadata": {},
     "output_type": "execute_result"
    }
   ],
   "source": [
    "np.sum(r)"
   ]
  },
  {
   "cell_type": "code",
   "execution_count": 73,
   "metadata": {},
   "outputs": [
    {
     "data": {
      "text/plain": [
       "950"
      ]
     },
     "execution_count": 73,
     "metadata": {},
     "output_type": "execute_result"
    }
   ],
   "source": [
    "len(r)"
   ]
  },
  {
   "cell_type": "code",
   "execution_count": 74,
   "metadata": {},
   "outputs": [],
   "source": [
    "from sklearn.model_selection import train_test_split\n",
    "x_train,x_test,y_train,y_test=train_test_split(x_scaled,y_upsample,test_size=0.3)"
   ]
  },
  {
   "cell_type": "code",
   "execution_count": 75,
   "metadata": {},
   "outputs": [],
   "source": [
    "from sklearn.ensemble import RandomForestClassifier"
   ]
  },
  {
   "cell_type": "code",
   "execution_count": 76,
   "metadata": {},
   "outputs": [],
   "source": [
    "rf=RandomForestClassifier()"
   ]
  },
  {
   "cell_type": "code",
   "execution_count": 77,
   "metadata": {},
   "outputs": [],
   "source": [
    "#Hyperparamenter tuning\n",
    "from sklearn.model_selection import GridSearchCV\n",
    "parameters={'criterion':['gini','entropy'], 'max_depth': np.arange(1,30)}"
   ]
  },
  {
   "cell_type": "code",
   "execution_count": 78,
   "metadata": {},
   "outputs": [],
   "source": [
    "grid=GridSearchCV(rf,parameters)"
   ]
  },
  {
   "cell_type": "code",
   "execution_count": 79,
   "metadata": {},
   "outputs": [
    {
     "data": {
      "text/plain": [
       "GridSearchCV(estimator=RandomForestClassifier(),\n",
       "             param_grid={'criterion': ['gini', 'entropy'],\n",
       "                         'max_depth': array([ 1,  2,  3,  4,  5,  6,  7,  8,  9, 10, 11, 12, 13, 14, 15, 16, 17,\n",
       "       18, 19, 20, 21, 22, 23, 24, 25, 26, 27, 28, 29])})"
      ]
     },
     "execution_count": 79,
     "metadata": {},
     "output_type": "execute_result"
    }
   ],
   "source": [
    "grid.fit(x_train,y_train)"
   ]
  },
  {
   "cell_type": "code",
   "execution_count": 80,
   "metadata": {},
   "outputs": [],
   "source": [
    "model=grid.best_estimator_"
   ]
  },
  {
   "cell_type": "code",
   "execution_count": 81,
   "metadata": {},
   "outputs": [
    {
     "data": {
      "text/plain": [
       "0.8358654931166779"
      ]
     },
     "execution_count": 81,
     "metadata": {},
     "output_type": "execute_result"
    }
   ],
   "source": [
    "grid.best_score_"
   ]
  },
  {
   "cell_type": "code",
   "execution_count": 82,
   "metadata": {},
   "outputs": [],
   "source": [
    "y_pred=model.predict(x_test)"
   ]
  },
  {
   "cell_type": "code",
   "execution_count": 83,
   "metadata": {},
   "outputs": [
    {
     "data": {
      "text/plain": [
       "0.8407079646017699"
      ]
     },
     "execution_count": 83,
     "metadata": {},
     "output_type": "execute_result"
    }
   ],
   "source": [
    "from sklearn.metrics import accuracy_score\n",
    "accuracy_score(y_test,y_pred)"
   ]
  },
  {
   "cell_type": "code",
   "execution_count": 84,
   "metadata": {},
   "outputs": [
    {
     "data": {
      "text/plain": [
       "<AxesSubplot:>"
      ]
     },
     "execution_count": 84,
     "metadata": {},
     "output_type": "execute_result"
    },
    {
     "data": {
      "image/png": "[encoded data removed]",
      "text/plain": [
       "<Figure size 432x288 with 2 Axes>"
      ]
     },
     "metadata": {},
     "output_type": "display_data"
    }
   ],
   "source": [
    "from sklearn.metrics import confusion_matrix,classification_report\n",
    "\n",
    "cm=confusion_matrix(y_pred,y_test)\n",
    "sns.heatmap(cm,annot=True)"
   ]
  },
  {
   "cell_type": "code",
   "execution_count": 85,
   "metadata": {},
   "outputs": [
    {
     "name": "stdout",
     "output_type": "stream",
     "text": [
      "              precision    recall  f1-score   support\n",
      "\n",
      "           N       1.00      0.76      0.86       297\n",
      "           Y       0.68      1.00      0.81       155\n",
      "\n",
      "    accuracy                           0.84       452\n",
      "   macro avg       0.84      0.88      0.84       452\n",
      "weighted avg       0.89      0.84      0.84       452\n",
      "\n"
     ]
    }
   ],
   "source": [
    "clf=classification_report(y_pred,y_test)\n",
    "print(clf)"
   ]
  },
  {
   "cell_type": "code",
   "execution_count": 86,
   "metadata": {},
   "outputs": [],
   "source": [
    "from sklearn.model_selection import cross_val_score\n",
    "cross_val=cross_val_score(model,x_train,y_train,cv=10)"
   ]
  },
  {
   "cell_type": "code",
   "execution_count": 87,
   "metadata": {},
   "outputs": [
    {
     "name": "stdout",
     "output_type": "stream",
     "text": [
      "[0.86792453 0.79245283 0.85849057 0.85849057 0.78095238 0.82857143\n",
      " 0.83809524 0.83809524 0.85714286 0.80952381]\n"
     ]
    }
   ],
   "source": [
    "print(cross_val)"
   ]
  },
  {
   "cell_type": "code",
   "execution_count": 90,
   "metadata": {},
   "outputs": [
    {
     "name": "stdout",
     "output_type": "stream",
     "text": [
      "Acccuracy of the model is : 83.29739442946989\n"
     ]
    }
   ],
   "source": [
    "print(\"Acccuracy of the model is :\", np.mean(cross_val)*100)"
   ]
  },
  {
   "cell_type": "code",
   "execution_count": null,
   "metadata": {},
   "outputs": [],
   "source": []
  }
 ],
 "metadata": {
  "kernelspec": {
   "display_name": "Python 3",
   "language": "python",
   "name": "python3"
  },
  "language_info": {
   "codemirror_mode": {
    "name": "ipython",
    "version": 3
   },
   "file_extension": ".py",
   "mimetype": "text/x-python",
   "name": "python",
   "nbconvert_exporter": "python",
   "pygments_lexer": "ipython3",
   "version": "3.7.3"
  }
 },
 "nbformat": 4,
 "nbformat_minor": 2
}
